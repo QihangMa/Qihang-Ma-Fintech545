{
 "cells": [
  {
   "attachments": {},
   "cell_type": "markdown",
   "metadata": {},
   "source": [
    "# Final 2023 Spring\n",
    "\n",
    "###### Created by Qihang Ma -- 2023.05.01"
   ]
  },
  {
   "attachments": {},
   "cell_type": "markdown",
   "metadata": {},
   "source": [
    "## Name I used to generate data\n",
    "\n",
    "- python3.11 datageneration.py \"Qihang Ma\" \"...\" \n",
    "\n",
    "- Writing Random Values for Qihang Ma into ...\n",
    "\n",
    "- Hashed Name:  7b8449b9dcbacd4fe5537e2a5211ca1569bf9f77\n",
    "\n",
    "\n",
    "If you want to run my code, you may need to install my library with the name \"RiskLib\"."
   ]
  },
  {
   "cell_type": "code",
   "execution_count": 1,
   "metadata": {},
   "outputs": [],
   "source": [
    "import warnings\n",
    "warnings.filterwarnings(\"ignore\")\n",
    "from RiskLib import calculation, cov_matrix, linear_regression, optimal_portfolio, risk_parity, risk_attribution, Option, simulation, VaR\n",
    "import pandas as pd\n",
    "import numpy as np\n",
    "import datetime as dt\n",
    "from scipy.optimize import fsolve, minimize\n",
    "import statsmodels.api as sm\n",
    "from scipy.stats import t, norm, kurtosis, skew\n",
    "import matplotlib.pyplot as plt"
   ]
  },
  {
   "attachments": {},
   "cell_type": "markdown",
   "metadata": {},
   "source": [
    "## Problem 1\n",
    "\n",
    "Using the data in “problem1.csv”\n",
    "- a. Calculate Log Returns (2pts)\n",
    "\n",
    "- b. Calculate Pairwise Covariance (4pt)\n",
    "\n",
    "- c. Is this Matrix PSD? If not, fix it with the “near_psd” method (2pt) \n",
    "\n",
    "- d. Discuss when you might see data like this in the real world. (2pt)"
   ]
  },
  {
   "cell_type": "code",
   "execution_count": 2,
   "metadata": {},
   "outputs": [
    {
     "data": {
      "text/html": [
       "<div>\n",
       "<style scoped>\n",
       "    .dataframe tbody tr th:only-of-type {\n",
       "        vertical-align: middle;\n",
       "    }\n",
       "\n",
       "    .dataframe tbody tr th {\n",
       "        vertical-align: top;\n",
       "    }\n",
       "\n",
       "    .dataframe thead th {\n",
       "        text-align: right;\n",
       "    }\n",
       "</style>\n",
       "<table border=\"1\" class=\"dataframe\">\n",
       "  <thead>\n",
       "    <tr style=\"text-align: right;\">\n",
       "      <th></th>\n",
       "      <th>Price1</th>\n",
       "      <th>Price2</th>\n",
       "      <th>Price3</th>\n",
       "      <th>Date</th>\n",
       "    </tr>\n",
       "  </thead>\n",
       "  <tbody>\n",
       "    <tr>\n",
       "      <th>0</th>\n",
       "      <td>102.826412</td>\n",
       "      <td>94.650195</td>\n",
       "      <td>98.743159</td>\n",
       "      <td>2023-04-12</td>\n",
       "    </tr>\n",
       "    <tr>\n",
       "      <th>1</th>\n",
       "      <td>NaN</td>\n",
       "      <td>94.790948</td>\n",
       "      <td>100.022901</td>\n",
       "      <td>2023-04-13</td>\n",
       "    </tr>\n",
       "    <tr>\n",
       "      <th>2</th>\n",
       "      <td>102.785907</td>\n",
       "      <td>NaN</td>\n",
       "      <td>NaN</td>\n",
       "      <td>2023-04-14</td>\n",
       "    </tr>\n",
       "    <tr>\n",
       "      <th>3</th>\n",
       "      <td>102.847258</td>\n",
       "      <td>96.056428</td>\n",
       "      <td>98.541876</td>\n",
       "      <td>2023-04-15</td>\n",
       "    </tr>\n",
       "    <tr>\n",
       "      <th>4</th>\n",
       "      <td>102.818215</td>\n",
       "      <td>94.861366</td>\n",
       "      <td>97.983723</td>\n",
       "      <td>2023-04-16</td>\n",
       "    </tr>\n",
       "    <tr>\n",
       "      <th>5</th>\n",
       "      <td>NaN</td>\n",
       "      <td>NaN</td>\n",
       "      <td>98.458978</td>\n",
       "      <td>2023-04-17</td>\n",
       "    </tr>\n",
       "    <tr>\n",
       "      <th>6</th>\n",
       "      <td>102.829005</td>\n",
       "      <td>94.108024</td>\n",
       "      <td>98.650071</td>\n",
       "      <td>2023-04-18</td>\n",
       "    </tr>\n",
       "    <tr>\n",
       "      <th>7</th>\n",
       "      <td>102.920044</td>\n",
       "      <td>94.206004</td>\n",
       "      <td>NaN</td>\n",
       "      <td>2023-04-19</td>\n",
       "    </tr>\n",
       "    <tr>\n",
       "      <th>8</th>\n",
       "      <td>102.848208</td>\n",
       "      <td>94.611114</td>\n",
       "      <td>99.883936</td>\n",
       "      <td>2023-04-20</td>\n",
       "    </tr>\n",
       "    <tr>\n",
       "      <th>9</th>\n",
       "      <td>102.642653</td>\n",
       "      <td>96.234730</td>\n",
       "      <td>99.904116</td>\n",
       "      <td>2023-04-21</td>\n",
       "    </tr>\n",
       "    <tr>\n",
       "      <th>10</th>\n",
       "      <td>102.754235</td>\n",
       "      <td>95.428819</td>\n",
       "      <td>97.964658</td>\n",
       "      <td>2023-04-22</td>\n",
       "    </tr>\n",
       "    <tr>\n",
       "      <th>11</th>\n",
       "      <td>102.868349</td>\n",
       "      <td>93.233250</td>\n",
       "      <td>98.728656</td>\n",
       "      <td>2023-04-23</td>\n",
       "    </tr>\n",
       "    <tr>\n",
       "      <th>12</th>\n",
       "      <td>102.917764</td>\n",
       "      <td>94.484647</td>\n",
       "      <td>98.832556</td>\n",
       "      <td>2023-04-24</td>\n",
       "    </tr>\n",
       "    <tr>\n",
       "      <th>13</th>\n",
       "      <td>102.893253</td>\n",
       "      <td>92.947829</td>\n",
       "      <td>100.991001</td>\n",
       "      <td>2023-04-25</td>\n",
       "    </tr>\n",
       "    <tr>\n",
       "      <th>14</th>\n",
       "      <td>102.836209</td>\n",
       "      <td>95.488845</td>\n",
       "      <td>98.757883</td>\n",
       "      <td>2023-04-26</td>\n",
       "    </tr>\n",
       "    <tr>\n",
       "      <th>15</th>\n",
       "      <td>102.784084</td>\n",
       "      <td>94.710784</td>\n",
       "      <td>100.125275</td>\n",
       "      <td>2023-04-27</td>\n",
       "    </tr>\n",
       "    <tr>\n",
       "      <th>16</th>\n",
       "      <td>102.900801</td>\n",
       "      <td>95.225558</td>\n",
       "      <td>99.508122</td>\n",
       "      <td>2023-04-28</td>\n",
       "    </tr>\n",
       "    <tr>\n",
       "      <th>17</th>\n",
       "      <td>102.876522</td>\n",
       "      <td>96.947049</td>\n",
       "      <td>100.611910</td>\n",
       "      <td>2023-04-29</td>\n",
       "    </tr>\n",
       "    <tr>\n",
       "      <th>18</th>\n",
       "      <td>102.824049</td>\n",
       "      <td>92.089138</td>\n",
       "      <td>98.087277</td>\n",
       "      <td>2023-04-30</td>\n",
       "    </tr>\n",
       "    <tr>\n",
       "      <th>19</th>\n",
       "      <td>103.022571</td>\n",
       "      <td>95.964771</td>\n",
       "      <td>100.139857</td>\n",
       "      <td>2023-05-01</td>\n",
       "    </tr>\n",
       "  </tbody>\n",
       "</table>\n",
       "</div>"
      ],
      "text/plain": [
       "        Price1     Price2      Price3        Date\n",
       "0   102.826412  94.650195   98.743159  2023-04-12\n",
       "1          NaN  94.790948  100.022901  2023-04-13\n",
       "2   102.785907        NaN         NaN  2023-04-14\n",
       "3   102.847258  96.056428   98.541876  2023-04-15\n",
       "4   102.818215  94.861366   97.983723  2023-04-16\n",
       "5          NaN        NaN   98.458978  2023-04-17\n",
       "6   102.829005  94.108024   98.650071  2023-04-18\n",
       "7   102.920044  94.206004         NaN  2023-04-19\n",
       "8   102.848208  94.611114   99.883936  2023-04-20\n",
       "9   102.642653  96.234730   99.904116  2023-04-21\n",
       "10  102.754235  95.428819   97.964658  2023-04-22\n",
       "11  102.868349  93.233250   98.728656  2023-04-23\n",
       "12  102.917764  94.484647   98.832556  2023-04-24\n",
       "13  102.893253  92.947829  100.991001  2023-04-25\n",
       "14  102.836209  95.488845   98.757883  2023-04-26\n",
       "15  102.784084  94.710784  100.125275  2023-04-27\n",
       "16  102.900801  95.225558   99.508122  2023-04-28\n",
       "17  102.876522  96.947049  100.611910  2023-04-29\n",
       "18  102.824049  92.089138   98.087277  2023-04-30\n",
       "19  103.022571  95.964771  100.139857  2023-05-01"
      ]
     },
     "execution_count": 2,
     "metadata": {},
     "output_type": "execute_result"
    }
   ],
   "source": [
    "missing_data = pd.read_csv('problem1.csv')\n",
    "missing_data"
   ]
  },
  {
   "attachments": {},
   "cell_type": "markdown",
   "metadata": {},
   "source": [
    "#### 1.1 Calculate the log return for the price\n",
    "\n",
    "- If the data is missing, then the return for that day is NaN, and for the next day, it will also be NaN."
   ]
  },
  {
   "cell_type": "code",
   "execution_count": 3,
   "metadata": {},
   "outputs": [
    {
     "data": {
      "text/html": [
       "<div>\n",
       "<style scoped>\n",
       "    .dataframe tbody tr th:only-of-type {\n",
       "        vertical-align: middle;\n",
       "    }\n",
       "\n",
       "    .dataframe tbody tr th {\n",
       "        vertical-align: top;\n",
       "    }\n",
       "\n",
       "    .dataframe thead th {\n",
       "        text-align: right;\n",
       "    }\n",
       "</style>\n",
       "<table border=\"1\" class=\"dataframe\">\n",
       "  <thead>\n",
       "    <tr style=\"text-align: right;\">\n",
       "      <th></th>\n",
       "      <th>Price1</th>\n",
       "      <th>Price2</th>\n",
       "      <th>Price3</th>\n",
       "    </tr>\n",
       "  </thead>\n",
       "  <tbody>\n",
       "    <tr>\n",
       "      <th>0</th>\n",
       "      <td>NaN</td>\n",
       "      <td>0.001486</td>\n",
       "      <td>0.012877</td>\n",
       "    </tr>\n",
       "    <tr>\n",
       "      <th>1</th>\n",
       "      <td>NaN</td>\n",
       "      <td>NaN</td>\n",
       "      <td>NaN</td>\n",
       "    </tr>\n",
       "    <tr>\n",
       "      <th>2</th>\n",
       "      <td>0.000597</td>\n",
       "      <td>NaN</td>\n",
       "      <td>NaN</td>\n",
       "    </tr>\n",
       "    <tr>\n",
       "      <th>3</th>\n",
       "      <td>-0.000282</td>\n",
       "      <td>-0.012519</td>\n",
       "      <td>-0.005680</td>\n",
       "    </tr>\n",
       "    <tr>\n",
       "      <th>4</th>\n",
       "      <td>NaN</td>\n",
       "      <td>NaN</td>\n",
       "      <td>0.004839</td>\n",
       "    </tr>\n",
       "    <tr>\n",
       "      <th>5</th>\n",
       "      <td>NaN</td>\n",
       "      <td>NaN</td>\n",
       "      <td>0.001939</td>\n",
       "    </tr>\n",
       "    <tr>\n",
       "      <th>6</th>\n",
       "      <td>0.000885</td>\n",
       "      <td>0.001041</td>\n",
       "      <td>NaN</td>\n",
       "    </tr>\n",
       "    <tr>\n",
       "      <th>7</th>\n",
       "      <td>-0.000698</td>\n",
       "      <td>0.004291</td>\n",
       "      <td>NaN</td>\n",
       "    </tr>\n",
       "    <tr>\n",
       "      <th>8</th>\n",
       "      <td>-0.002001</td>\n",
       "      <td>0.017015</td>\n",
       "      <td>0.000202</td>\n",
       "    </tr>\n",
       "    <tr>\n",
       "      <th>9</th>\n",
       "      <td>0.001087</td>\n",
       "      <td>-0.008410</td>\n",
       "      <td>-0.019604</td>\n",
       "    </tr>\n",
       "    <tr>\n",
       "      <th>10</th>\n",
       "      <td>0.001110</td>\n",
       "      <td>-0.023276</td>\n",
       "      <td>0.007768</td>\n",
       "    </tr>\n",
       "    <tr>\n",
       "      <th>11</th>\n",
       "      <td>0.000480</td>\n",
       "      <td>0.013333</td>\n",
       "      <td>0.001052</td>\n",
       "    </tr>\n",
       "    <tr>\n",
       "      <th>12</th>\n",
       "      <td>-0.000238</td>\n",
       "      <td>-0.016399</td>\n",
       "      <td>0.021604</td>\n",
       "    </tr>\n",
       "    <tr>\n",
       "      <th>13</th>\n",
       "      <td>-0.000555</td>\n",
       "      <td>0.026971</td>\n",
       "      <td>-0.022360</td>\n",
       "    </tr>\n",
       "    <tr>\n",
       "      <th>14</th>\n",
       "      <td>-0.000507</td>\n",
       "      <td>-0.008182</td>\n",
       "      <td>0.013751</td>\n",
       "    </tr>\n",
       "    <tr>\n",
       "      <th>15</th>\n",
       "      <td>0.001135</td>\n",
       "      <td>0.005421</td>\n",
       "      <td>-0.006183</td>\n",
       "    </tr>\n",
       "    <tr>\n",
       "      <th>16</th>\n",
       "      <td>-0.000236</td>\n",
       "      <td>0.017917</td>\n",
       "      <td>0.011031</td>\n",
       "    </tr>\n",
       "    <tr>\n",
       "      <th>17</th>\n",
       "      <td>-0.000510</td>\n",
       "      <td>-0.051408</td>\n",
       "      <td>-0.025413</td>\n",
       "    </tr>\n",
       "    <tr>\n",
       "      <th>18</th>\n",
       "      <td>0.001929</td>\n",
       "      <td>0.041224</td>\n",
       "      <td>0.020710</td>\n",
       "    </tr>\n",
       "  </tbody>\n",
       "</table>\n",
       "</div>"
      ],
      "text/plain": [
       "      Price1    Price2    Price3\n",
       "0        NaN  0.001486  0.012877\n",
       "1        NaN       NaN       NaN\n",
       "2   0.000597       NaN       NaN\n",
       "3  -0.000282 -0.012519 -0.005680\n",
       "4        NaN       NaN  0.004839\n",
       "5        NaN       NaN  0.001939\n",
       "6   0.000885  0.001041       NaN\n",
       "7  -0.000698  0.004291       NaN\n",
       "8  -0.002001  0.017015  0.000202\n",
       "9   0.001087 -0.008410 -0.019604\n",
       "10  0.001110 -0.023276  0.007768\n",
       "11  0.000480  0.013333  0.001052\n",
       "12 -0.000238 -0.016399  0.021604\n",
       "13 -0.000555  0.026971 -0.022360\n",
       "14 -0.000507 -0.008182  0.013751\n",
       "15  0.001135  0.005421 -0.006183\n",
       "16 -0.000236  0.017917  0.011031\n",
       "17 -0.000510 -0.051408 -0.025413\n",
       "18  0.001929  0.041224  0.020710"
      ]
     },
     "execution_count": 3,
     "metadata": {},
     "output_type": "execute_result"
    }
   ],
   "source": [
    "missing_returns = calculation.return_calculate(missing_data, method = 'LOG').drop('Date',axis=1)\n",
    "missing_returns"
   ]
  },
  {
   "attachments": {},
   "cell_type": "markdown",
   "metadata": {},
   "source": [
    "#### 1.2 Calculate the pairwise Covariance Matrix\n",
    "\n",
    "- Since there are some missing values in the returns, calculate the covariance matrix with the pairwise method."
   ]
  },
  {
   "cell_type": "code",
   "execution_count": 4,
   "metadata": {},
   "outputs": [
    {
     "data": {
      "text/html": [
       "<div>\n",
       "<style scoped>\n",
       "    .dataframe tbody tr th:only-of-type {\n",
       "        vertical-align: middle;\n",
       "    }\n",
       "\n",
       "    .dataframe tbody tr th {\n",
       "        vertical-align: top;\n",
       "    }\n",
       "\n",
       "    .dataframe thead th {\n",
       "        text-align: right;\n",
       "    }\n",
       "</style>\n",
       "<table border=\"1\" class=\"dataframe\">\n",
       "  <thead>\n",
       "    <tr style=\"text-align: right;\">\n",
       "      <th></th>\n",
       "      <th>0</th>\n",
       "      <th>1</th>\n",
       "      <th>2</th>\n",
       "    </tr>\n",
       "  </thead>\n",
       "  <tbody>\n",
       "    <tr>\n",
       "      <th>0</th>\n",
       "      <td>9.983249e-07</td>\n",
       "      <td>0.000003</td>\n",
       "      <td>0.000003</td>\n",
       "    </tr>\n",
       "    <tr>\n",
       "      <th>1</th>\n",
       "      <td>2.985551e-06</td>\n",
       "      <td>0.000501</td>\n",
       "      <td>0.000112</td>\n",
       "    </tr>\n",
       "    <tr>\n",
       "      <th>2</th>\n",
       "      <td>2.997105e-06</td>\n",
       "      <td>0.000112</td>\n",
       "      <td>0.000217</td>\n",
       "    </tr>\n",
       "  </tbody>\n",
       "</table>\n",
       "</div>"
      ],
      "text/plain": [
       "              0         1         2\n",
       "0  9.983249e-07  0.000003  0.000003\n",
       "1  2.985551e-06  0.000501  0.000112\n",
       "2  2.997105e-06  0.000112  0.000217"
      ]
     },
     "execution_count": 4,
     "metadata": {},
     "output_type": "execute_result"
    }
   ],
   "source": [
    "pairwise_cov = cov_matrix.missing_cov(missing_returns.values, skipMiss=False, fun=np.cov)\n",
    "pd.DataFrame(pairwise_cov)"
   ]
  },
  {
   "attachments": {},
   "cell_type": "markdown",
   "metadata": {},
   "source": [
    "#### 1.3 Check if the matrix psd or not"
   ]
  },
  {
   "cell_type": "code",
   "execution_count": 5,
   "metadata": {},
   "outputs": [
    {
     "data": {
      "text/plain": [
       "True"
      ]
     },
     "execution_count": 5,
     "metadata": {},
     "output_type": "execute_result"
    }
   ],
   "source": [
    "cov_matrix.is_psd(pairwise_cov)"
   ]
  },
  {
   "attachments": {},
   "cell_type": "markdown",
   "metadata": {},
   "source": [
    "So, it is a psd matrix."
   ]
  },
  {
   "attachments": {},
   "cell_type": "markdown",
   "metadata": {},
   "source": [
    "#### 1.4 When we will see the missing data\n",
    "\n",
    "Not all markets are open at the same time on the same days. A holiday in one market is not necessarily a holiday in another, even in the same country. Or in different countries, there will be different opening time. So, we may see the missing datas like this."
   ]
  },
  {
   "attachments": {},
   "cell_type": "markdown",
   "metadata": {},
   "source": [
    "## Problem 2\n",
    "\n",
    "“problem2.csv” contains data about a call option. Time to maturity is given in days. Assume 255 days in a year.\n",
    "\n",
    "- a. Calculate the call price (1pt)\n",
    "\n",
    "- b. Calculate Delta (1pt)\n",
    "\n",
    "- c. Calculate Gamma (1pt)\n",
    "\n",
    "- d. Calculate Vega (1pt)\n",
    "\n",
    "- e. Calculate Rho (1pt)\n",
    "\n",
    "Assume you are long 1 share of underlying and are short 1 call option. Using Monte Carlo assuming a Normal distribution of arithmetic returns where the implied volatility is the annual volatility and 0 mean\n",
    "\n",
    "- f. Calculate VaR at 5% (2pt)\n",
    "\n",
    "- g. Calculate ES at 5% (2pt)\n",
    "\n",
    "- h. This portfolio’s payoff structure most closely resembles what? (1pt)"
   ]
  },
  {
   "cell_type": "code",
   "execution_count": 6,
   "metadata": {},
   "outputs": [
    {
     "data": {
      "text/html": [
       "<div>\n",
       "<style scoped>\n",
       "    .dataframe tbody tr th:only-of-type {\n",
       "        vertical-align: middle;\n",
       "    }\n",
       "\n",
       "    .dataframe tbody tr th {\n",
       "        vertical-align: top;\n",
       "    }\n",
       "\n",
       "    .dataframe thead th {\n",
       "        text-align: right;\n",
       "    }\n",
       "</style>\n",
       "<table border=\"1\" class=\"dataframe\">\n",
       "  <thead>\n",
       "    <tr style=\"text-align: right;\">\n",
       "      <th></th>\n",
       "      <th>Underlying</th>\n",
       "      <th>Strike</th>\n",
       "      <th>IV</th>\n",
       "      <th>TTM</th>\n",
       "      <th>RF</th>\n",
       "      <th>DivRate</th>\n",
       "    </tr>\n",
       "  </thead>\n",
       "  <tbody>\n",
       "    <tr>\n",
       "      <th>0</th>\n",
       "      <td>85.084564</td>\n",
       "      <td>74.575976</td>\n",
       "      <td>0.22</td>\n",
       "      <td>148</td>\n",
       "      <td>0.045</td>\n",
       "      <td>0.04477</td>\n",
       "    </tr>\n",
       "  </tbody>\n",
       "</table>\n",
       "</div>"
      ],
      "text/plain": [
       "   Underlying     Strike    IV  TTM     RF  DivRate\n",
       "0   85.084564  74.575976  0.22  148  0.045  0.04477"
      ]
     },
     "execution_count": 6,
     "metadata": {},
     "output_type": "execute_result"
    }
   ],
   "source": [
    "call_option = pd.read_csv('problem2.csv')\n",
    "call_option"
   ]
  },
  {
   "attachments": {},
   "cell_type": "markdown",
   "metadata": {},
   "source": [
    "#### 2.1 Calculate the value and greeks about this option with Black-scholes model "
   ]
  },
  {
   "cell_type": "code",
   "execution_count": 7,
   "metadata": {},
   "outputs": [
    {
     "data": {
      "text/html": [
       "<div>\n",
       "<style scoped>\n",
       "    .dataframe tbody tr th:only-of-type {\n",
       "        vertical-align: middle;\n",
       "    }\n",
       "\n",
       "    .dataframe tbody tr th {\n",
       "        vertical-align: top;\n",
       "    }\n",
       "\n",
       "    .dataframe thead th {\n",
       "        text-align: right;\n",
       "    }\n",
       "</style>\n",
       "<table border=\"1\" class=\"dataframe\">\n",
       "  <thead>\n",
       "    <tr style=\"text-align: right;\">\n",
       "      <th></th>\n",
       "      <th>Value</th>\n",
       "      <th>Delta</th>\n",
       "      <th>Gamma</th>\n",
       "      <th>Vega</th>\n",
       "      <th>Theta</th>\n",
       "      <th>Rho</th>\n",
       "      <th>Carry Rho</th>\n",
       "    </tr>\n",
       "  </thead>\n",
       "  <tbody>\n",
       "    <tr>\n",
       "      <th>call</th>\n",
       "      <td>11.844251</td>\n",
       "      <td>0.787432</td>\n",
       "      <td>0.018651</td>\n",
       "      <td>17.240393</td>\n",
       "      <td>-2.749939</td>\n",
       "      <td>32.010991</td>\n",
       "      <td>38.885301</td>\n",
       "    </tr>\n",
       "  </tbody>\n",
       "</table>\n",
       "</div>"
      ],
      "text/plain": [
       "          Value     Delta     Gamma       Vega     Theta        Rho  Carry Rho\n",
       "call  11.844251  0.787432  0.018651  17.240393 -2.749939  32.010991  38.885301"
      ]
     },
     "execution_count": 7,
     "metadata": {},
     "output_type": "execute_result"
    }
   ],
   "source": [
    "S0 = call_option['Underlying'].values[0]\n",
    "K = call_option['Strike'].values[0]\n",
    "iv = call_option['IV'].values[0]\n",
    "rf = call_option['RF'].values[0]\n",
    "q = call_option['DivRate'].values[0]\n",
    "ttm = call_option['TTM'].values[0]/255\n",
    "\n",
    "call = Option.black_scholes_matrix(S0,K,ttm,rf,q,iv,'call')\n",
    "pd.DataFrame(call.greeks(), index=['call'])"
   ]
  },
  {
   "attachments": {},
   "cell_type": "markdown",
   "metadata": {},
   "source": [
    "#### 2.2 Simulate the returns and calculate the VaR and ES"
   ]
  },
  {
   "cell_type": "code",
   "execution_count": 8,
   "metadata": {},
   "outputs": [
    {
     "name": "stdout",
     "output_type": "stream",
     "text": [
      "VaR Mean: 0.4337 -- 5% range [0.4216, 0.4461].\n",
      "ES Mean: 0.5607 -- 5% range [0.5455, 0.5762].\n",
      "\n",
      "If fitting with t distribution, the degree of freedom:\n",
      "df Mean: 52.0227 -- 5% range [25.3523, 121.9174].\n"
     ]
    }
   ],
   "source": [
    "ttm_1 = (call_option['TTM'].values[0]-1)/255\n",
    "VaRs = []\n",
    "ESs = []\n",
    "dfs = []\n",
    "\n",
    "for i in range(1000):\n",
    "\n",
    "    np.random.seed(i)\n",
    "    sim_r = np.random.normal(size=10000, loc=0, scale=iv/np.sqrt(255))\n",
    "    sim_price = pd.DataFrame((1+sim_r) * S0, columns=['Price'])\n",
    "\n",
    "    sim_price['PnL'] = sim_price.apply(lambda x:call.price() - Option.black_scholes(x,K,ttm_1,rf,q,iv,'call') + x - S0)\n",
    "\n",
    "\n",
    "    VaRs.append(VaR.calculate_var(sim_price['PnL']))\n",
    "    ESs.append(VaR.calculate_ES(sim_price['PnL']))\n",
    "    dfs.append(simulation.Fitting_t_MLE(sim_price['PnL'])[0])\n",
    "\n",
    "VaRs = np.array(VaRs)\n",
    "ESs = np.array(ESs)\n",
    "dfs = np.array(dfs)\n",
    "\n",
    "print(\"VaR Mean: {:.4f} -- 5% range [{:.4f}, {:.4f}].\".format(VaRs.mean(), np.quantile(VaRs, 0.025), np.quantile(VaRs, 0.975)))\n",
    "print(\"ES Mean: {:.4f} -- 5% range [{:.4f}, {:.4f}].\\n\".format(ESs.mean(), np.quantile(ESs, 0.025), np.quantile(ESs, 0.975)))\n",
    "\n",
    "print(\"If fitting with t distribution, the degree of freedom:\")\n",
    "print(\"df Mean: {:.4f} -- 5% range [{:.4f}, {:.4f}].\".format(dfs.mean(), np.quantile(dfs, 0.025), np.quantile(dfs, 0.975)))"
   ]
  },
  {
   "attachments": {},
   "cell_type": "markdown",
   "metadata": {},
   "source": [
    "Since the degree of freedom is relatively high, so this portfolio’s payoff structure most closely resembles normal distribution."
   ]
  },
  {
   "attachments": {},
   "cell_type": "markdown",
   "metadata": {},
   "source": [
    "## Problem 3\n",
    "\n",
    "Data in “problem3_cov.csv” is the covariance for 3 assets. “problem3_ER.csv” is the expected return for each asset as well as the risk free rate.\n",
    "\n",
    "- a. Calculate the Maximum Sharpe Ratio Portfolio (4pt)\n",
    "\n",
    "- b. Calculate the Risk Parity Portfolio (4pt)\n",
    "\n",
    "- c. Compare the differences between the portfolio and explain why. (2pt)"
   ]
  },
  {
   "cell_type": "code",
   "execution_count": 9,
   "metadata": {},
   "outputs": [],
   "source": [
    "covar_matrix = pd.read_csv('problem3_cov.csv')\n",
    "origin_exp_return = pd.read_csv('problem3_ER.csv')\n",
    "\n",
    "assets = covar_matrix.columns.to_list()\n",
    "\n",
    "exp_return = origin_exp_return.values[0][1:]\n",
    "rf = origin_exp_return['RF'].values[0]"
   ]
  },
  {
   "attachments": {},
   "cell_type": "markdown",
   "metadata": {},
   "source": [
    "#### 3.1 Calculate the Maximum Sharpe Ratio Portfolio\n",
    "\n",
    "- With the constrain of positive weights"
   ]
  },
  {
   "cell_type": "code",
   "execution_count": 10,
   "metadata": {},
   "outputs": [
    {
     "data": {
      "text/html": [
       "<div>\n",
       "<style scoped>\n",
       "    .dataframe tbody tr th:only-of-type {\n",
       "        vertical-align: middle;\n",
       "    }\n",
       "\n",
       "    .dataframe tbody tr th {\n",
       "        vertical-align: top;\n",
       "    }\n",
       "\n",
       "    .dataframe thead th {\n",
       "        text-align: right;\n",
       "    }\n",
       "</style>\n",
       "<table border=\"1\" class=\"dataframe\">\n",
       "  <thead>\n",
       "    <tr style=\"text-align: right;\">\n",
       "      <th></th>\n",
       "      <th>Stock</th>\n",
       "      <th>Weight</th>\n",
       "      <th>cEr</th>\n",
       "    </tr>\n",
       "  </thead>\n",
       "  <tbody>\n",
       "    <tr>\n",
       "      <th>0</th>\n",
       "      <td>Asset1</td>\n",
       "      <td>0.398464</td>\n",
       "      <td>0.056812</td>\n",
       "    </tr>\n",
       "    <tr>\n",
       "      <th>1</th>\n",
       "      <td>Asset2</td>\n",
       "      <td>0.289620</td>\n",
       "      <td>0.051914</td>\n",
       "    </tr>\n",
       "    <tr>\n",
       "      <th>2</th>\n",
       "      <td>Asset3</td>\n",
       "      <td>0.311915</td>\n",
       "      <td>0.052918</td>\n",
       "    </tr>\n",
       "  </tbody>\n",
       "</table>\n",
       "</div>"
      ],
      "text/plain": [
       "    Stock    Weight       cEr\n",
       "0  Asset1  0.398464  0.056812\n",
       "1  Asset2  0.289620  0.051914\n",
       "2  Asset3  0.311915  0.052918"
      ]
     },
     "execution_count": 10,
     "metadata": {},
     "output_type": "execute_result"
    }
   ],
   "source": [
    "weights_sr, _ = optimal_portfolio.Optweight_sr(assets, exp_return, covar_matrix, rf)\n",
    "weights_sr"
   ]
  },
  {
   "attachments": {},
   "cell_type": "markdown",
   "metadata": {},
   "source": [
    "#### 3.2 Calculate the Risk Parity Portfolio"
   ]
  },
  {
   "cell_type": "code",
   "execution_count": 11,
   "metadata": {},
   "outputs": [
    {
     "data": {
      "text/html": [
       "<div>\n",
       "<style scoped>\n",
       "    .dataframe tbody tr th:only-of-type {\n",
       "        vertical-align: middle;\n",
       "    }\n",
       "\n",
       "    .dataframe tbody tr th {\n",
       "        vertical-align: top;\n",
       "    }\n",
       "\n",
       "    .dataframe thead th {\n",
       "        text-align: right;\n",
       "    }\n",
       "</style>\n",
       "<table border=\"1\" class=\"dataframe\">\n",
       "  <thead>\n",
       "    <tr style=\"text-align: right;\">\n",
       "      <th></th>\n",
       "      <th>Weight</th>\n",
       "      <th>cEr</th>\n",
       "      <th>CSD</th>\n",
       "    </tr>\n",
       "  </thead>\n",
       "  <tbody>\n",
       "    <tr>\n",
       "      <th>0</th>\n",
       "      <td>0.398465</td>\n",
       "      <td>0.056812</td>\n",
       "      <td>0.064306</td>\n",
       "    </tr>\n",
       "    <tr>\n",
       "      <th>1</th>\n",
       "      <td>0.289625</td>\n",
       "      <td>0.051915</td>\n",
       "      <td>0.064306</td>\n",
       "    </tr>\n",
       "    <tr>\n",
       "      <th>2</th>\n",
       "      <td>0.311910</td>\n",
       "      <td>0.052918</td>\n",
       "      <td>0.064306</td>\n",
       "    </tr>\n",
       "  </tbody>\n",
       "</table>\n",
       "</div>"
      ],
      "text/plain": [
       "     Weight       cEr       CSD\n",
       "0  0.398465  0.056812  0.064306\n",
       "1  0.289625  0.051915  0.064306\n",
       "2  0.311910  0.052918  0.064306"
      ]
     },
     "execution_count": 11,
     "metadata": {},
     "output_type": "execute_result"
    }
   ],
   "source": [
    "weights_rp = risk_parity.vol_risk_parity(exp_return, covar_matrix)\n",
    "weights_rp"
   ]
  },
  {
   "attachments": {},
   "cell_type": "markdown",
   "metadata": {},
   "source": [
    "#### 3.3 Comparation of two portfolios\n",
    "\n",
    "Correlations and Sharpe ratios are equal -> risk parity is the maximum sharpe ratio portfolio"
   ]
  },
  {
   "attachments": {},
   "cell_type": "markdown",
   "metadata": {},
   "source": [
    "## Problem 4 \n",
    "\n",
    "Data in “problem4_returns.csv” is a series of returns for 3 assets.“problem4_startWeight.csv” is the starting weights of a portfolio of these assets as of the first day in the return series.\n",
    "\n",
    "- a. Calculate the new weights for the start of each time period (2pt)\n",
    "\n",
    "- b. Calculate the ex-post return attribution of the portfolio on each asset (4pt)\n",
    "\n",
    "- c. Calculate the ex-post risk attribution of the portfolio on each asset (2pt)"
   ]
  },
  {
   "cell_type": "code",
   "execution_count": 12,
   "metadata": {},
   "outputs": [],
   "source": [
    "returns = pd.read_csv('problem4_returns.csv').drop('Date', axis=1)\n",
    "start_weights = pd.read_csv('problem4_startWeight.csv').values[0]"
   ]
  },
  {
   "attachments": {},
   "cell_type": "markdown",
   "metadata": {},
   "source": [
    "#### 4.1 Calculate the new weights from the start to each time period"
   ]
  },
  {
   "cell_type": "code",
   "execution_count": 13,
   "metadata": {},
   "outputs": [
    {
     "data": {
      "text/html": [
       "<div>\n",
       "<style scoped>\n",
       "    .dataframe tbody tr th:only-of-type {\n",
       "        vertical-align: middle;\n",
       "    }\n",
       "\n",
       "    .dataframe tbody tr th {\n",
       "        vertical-align: top;\n",
       "    }\n",
       "\n",
       "    .dataframe thead th {\n",
       "        text-align: right;\n",
       "    }\n",
       "</style>\n",
       "<table border=\"1\" class=\"dataframe\">\n",
       "  <thead>\n",
       "    <tr style=\"text-align: right;\">\n",
       "      <th></th>\n",
       "      <th>Asset1</th>\n",
       "      <th>Asset2</th>\n",
       "      <th>Asset3</th>\n",
       "    </tr>\n",
       "  </thead>\n",
       "  <tbody>\n",
       "    <tr>\n",
       "      <th>0</th>\n",
       "      <td>0.429088</td>\n",
       "      <td>0.284605</td>\n",
       "      <td>0.286308</td>\n",
       "    </tr>\n",
       "    <tr>\n",
       "      <th>1</th>\n",
       "      <td>0.442359</td>\n",
       "      <td>0.271454</td>\n",
       "      <td>0.286187</td>\n",
       "    </tr>\n",
       "    <tr>\n",
       "      <th>2</th>\n",
       "      <td>0.457152</td>\n",
       "      <td>0.273731</td>\n",
       "      <td>0.269117</td>\n",
       "    </tr>\n",
       "    <tr>\n",
       "      <th>3</th>\n",
       "      <td>0.432297</td>\n",
       "      <td>0.288847</td>\n",
       "      <td>0.278856</td>\n",
       "    </tr>\n",
       "    <tr>\n",
       "      <th>4</th>\n",
       "      <td>0.451087</td>\n",
       "      <td>0.264639</td>\n",
       "      <td>0.284274</td>\n",
       "    </tr>\n",
       "    <tr>\n",
       "      <th>5</th>\n",
       "      <td>0.471658</td>\n",
       "      <td>0.233571</td>\n",
       "      <td>0.294771</td>\n",
       "    </tr>\n",
       "    <tr>\n",
       "      <th>6</th>\n",
       "      <td>0.486315</td>\n",
       "      <td>0.228444</td>\n",
       "      <td>0.285241</td>\n",
       "    </tr>\n",
       "    <tr>\n",
       "      <th>7</th>\n",
       "      <td>0.507897</td>\n",
       "      <td>0.239593</td>\n",
       "      <td>0.252510</td>\n",
       "    </tr>\n",
       "    <tr>\n",
       "      <th>8</th>\n",
       "      <td>0.534966</td>\n",
       "      <td>0.233213</td>\n",
       "      <td>0.231821</td>\n",
       "    </tr>\n",
       "    <tr>\n",
       "      <th>9</th>\n",
       "      <td>0.512858</td>\n",
       "      <td>0.242326</td>\n",
       "      <td>0.244816</td>\n",
       "    </tr>\n",
       "    <tr>\n",
       "      <th>10</th>\n",
       "      <td>0.531614</td>\n",
       "      <td>0.232880</td>\n",
       "      <td>0.235506</td>\n",
       "    </tr>\n",
       "    <tr>\n",
       "      <th>11</th>\n",
       "      <td>0.535166</td>\n",
       "      <td>0.248667</td>\n",
       "      <td>0.216168</td>\n",
       "    </tr>\n",
       "    <tr>\n",
       "      <th>12</th>\n",
       "      <td>0.530176</td>\n",
       "      <td>0.254229</td>\n",
       "      <td>0.215594</td>\n",
       "    </tr>\n",
       "    <tr>\n",
       "      <th>13</th>\n",
       "      <td>0.558669</td>\n",
       "      <td>0.240152</td>\n",
       "      <td>0.201179</td>\n",
       "    </tr>\n",
       "    <tr>\n",
       "      <th>14</th>\n",
       "      <td>0.530123</td>\n",
       "      <td>0.261294</td>\n",
       "      <td>0.208583</td>\n",
       "    </tr>\n",
       "    <tr>\n",
       "      <th>15</th>\n",
       "      <td>0.519007</td>\n",
       "      <td>0.267382</td>\n",
       "      <td>0.213611</td>\n",
       "    </tr>\n",
       "    <tr>\n",
       "      <th>16</th>\n",
       "      <td>0.520033</td>\n",
       "      <td>0.263188</td>\n",
       "      <td>0.216779</td>\n",
       "    </tr>\n",
       "    <tr>\n",
       "      <th>17</th>\n",
       "      <td>0.518247</td>\n",
       "      <td>0.253837</td>\n",
       "      <td>0.227916</td>\n",
       "    </tr>\n",
       "    <tr>\n",
       "      <th>18</th>\n",
       "      <td>0.515476</td>\n",
       "      <td>0.260974</td>\n",
       "      <td>0.223550</td>\n",
       "    </tr>\n",
       "    <tr>\n",
       "      <th>19</th>\n",
       "      <td>0.537459</td>\n",
       "      <td>0.246885</td>\n",
       "      <td>0.215656</td>\n",
       "    </tr>\n",
       "    <tr>\n",
       "      <th>20</th>\n",
       "      <td>0.586327</td>\n",
       "      <td>0.224125</td>\n",
       "      <td>0.189548</td>\n",
       "    </tr>\n",
       "  </tbody>\n",
       "</table>\n",
       "</div>"
      ],
      "text/plain": [
       "      Asset1    Asset2    Asset3\n",
       "0   0.429088  0.284605  0.286308\n",
       "1   0.442359  0.271454  0.286187\n",
       "2   0.457152  0.273731  0.269117\n",
       "3   0.432297  0.288847  0.278856\n",
       "4   0.451087  0.264639  0.284274\n",
       "5   0.471658  0.233571  0.294771\n",
       "6   0.486315  0.228444  0.285241\n",
       "7   0.507897  0.239593  0.252510\n",
       "8   0.534966  0.233213  0.231821\n",
       "9   0.512858  0.242326  0.244816\n",
       "10  0.531614  0.232880  0.235506\n",
       "11  0.535166  0.248667  0.216168\n",
       "12  0.530176  0.254229  0.215594\n",
       "13  0.558669  0.240152  0.201179\n",
       "14  0.530123  0.261294  0.208583\n",
       "15  0.519007  0.267382  0.213611\n",
       "16  0.520033  0.263188  0.216779\n",
       "17  0.518247  0.253837  0.227916\n",
       "18  0.515476  0.260974  0.223550\n",
       "19  0.537459  0.246885  0.215656\n",
       "20  0.586327  0.224125  0.189548"
      ]
     },
     "execution_count": 13,
     "metadata": {},
     "output_type": "execute_result"
    }
   ],
   "source": [
    "stocks = list(returns.columns)\n",
    "n = returns.shape[0]\n",
    "\n",
    "weights = np.empty((n+1, len(start_weights)))\n",
    "lastW = np.copy(start_weights)\n",
    "matReturns = returns[stocks].values\n",
    "\n",
    "for i in range(n):\n",
    "    # Save Current Weights in Matrix\n",
    "    weights[i,:] = lastW\n",
    "\n",
    "    # Update Weights by return\n",
    "    lastW = lastW * (1.0 + matReturns[i,:])\n",
    "\n",
    "    # Portfolio return is the sum of the updated weights\n",
    "    pR = np.sum(lastW)\n",
    "    # Normalize the wieghts back so sum = 1\n",
    "    lastW = lastW / pR\n",
    "\n",
    "weights[n,:] = lastW\n",
    "\n",
    "pd.DataFrame(weights, columns=stocks)\n"
   ]
  },
  {
   "attachments": {},
   "cell_type": "markdown",
   "metadata": {},
   "source": [
    "#### 4.2 & 4.3 Calculate the ex-post return & risk attribution"
   ]
  },
  {
   "cell_type": "code",
   "execution_count": 14,
   "metadata": {},
   "outputs": [
    {
     "data": {
      "text/html": [
       "<div>\n",
       "<style scoped>\n",
       "    .dataframe tbody tr th:only-of-type {\n",
       "        vertical-align: middle;\n",
       "    }\n",
       "\n",
       "    .dataframe tbody tr th {\n",
       "        vertical-align: top;\n",
       "    }\n",
       "\n",
       "    .dataframe thead th {\n",
       "        text-align: right;\n",
       "    }\n",
       "</style>\n",
       "<table border=\"1\" class=\"dataframe\">\n",
       "  <thead>\n",
       "    <tr style=\"text-align: right;\">\n",
       "      <th></th>\n",
       "      <th>Value</th>\n",
       "      <th>Asset1</th>\n",
       "      <th>Asset2</th>\n",
       "      <th>Asset3</th>\n",
       "      <th>Portfolio</th>\n",
       "    </tr>\n",
       "  </thead>\n",
       "  <tbody>\n",
       "    <tr>\n",
       "      <th>0</th>\n",
       "      <td>TotalReturn</td>\n",
       "      <td>0.629554</td>\n",
       "      <td>-0.060875</td>\n",
       "      <td>-0.210485</td>\n",
       "      <td>0.192545</td>\n",
       "    </tr>\n",
       "    <tr>\n",
       "      <th>1</th>\n",
       "      <td>Return Attribution</td>\n",
       "      <td>0.276461</td>\n",
       "      <td>-0.019145</td>\n",
       "      <td>-0.064771</td>\n",
       "      <td>0.192545</td>\n",
       "    </tr>\n",
       "    <tr>\n",
       "      <th>2</th>\n",
       "      <td>Vol Attribution</td>\n",
       "      <td>0.021414</td>\n",
       "      <td>0.008023</td>\n",
       "      <td>0.006717</td>\n",
       "      <td>0.036153</td>\n",
       "    </tr>\n",
       "  </tbody>\n",
       "</table>\n",
       "</div>"
      ],
      "text/plain": [
       "                Value    Asset1    Asset2    Asset3  Portfolio\n",
       "0         TotalReturn  0.629554 -0.060875 -0.210485   0.192545\n",
       "1  Return Attribution  0.276461 -0.019145 -0.064771   0.192545\n",
       "2     Vol Attribution  0.021414  0.008023  0.006717   0.036153"
      ]
     },
     "execution_count": 14,
     "metadata": {},
     "output_type": "execute_result"
    }
   ],
   "source": [
    "risk_attribution.expost_attribution(start_weights,returns)"
   ]
  },
  {
   "attachments": {},
   "cell_type": "markdown",
   "metadata": {},
   "source": [
    "## Problem 5\n",
    "\n",
    "Input prices in “problem5.csv” are for a portfolio. You hold 1 share of each asset. Using arithmetic returns, fit a generalized T distribution to each asset return series. Using a Gaussian Copula:\n",
    "\n",
    "- a. Calculate VaR (5%) for each asset (3pt)\n",
    "\n",
    "- b. Calculate VaR (5%) for a portfolio of Asset 1 & 2 and a portfolio of Asset 3 & 4 (4pt)\n",
    "\n",
    "- c. Calculate VaR (5%) for a portfolio of all 4 assets. (3pt)"
   ]
  },
  {
   "cell_type": "code",
   "execution_count": 15,
   "metadata": {},
   "outputs": [],
   "source": [
    "dataset = pd.read_csv('problem5.csv')\n",
    "all_returns = calculation.return_calculate(dataset).drop('Date',axis=1)\n",
    "\n",
    "latest_prices = dataset.drop('Date',axis=1).tail(1).values[0]"
   ]
  },
  {
   "cell_type": "code",
   "execution_count": 16,
   "metadata": {},
   "outputs": [],
   "source": [
    "def gaussian_copula(returns, fitting_model=None, n_sample=10000, seed=12345):\n",
    "    stocks = returns.columns.tolist()\n",
    "    n = len(stocks)\n",
    "\n",
    "    if fitting_model is None:\n",
    "        fitting_model = np.full(n, 't')\n",
    "\n",
    "\n",
    "    # Fitting model for each stock\n",
    "    parameters = []\n",
    "    assets_returns_cdf = pd.DataFrame()\n",
    "    for i, stock in enumerate(stocks):\n",
    "        if fitting_model[i] == 't':\n",
    "            params = t.fit(returns[stock])\n",
    "            fitting = 't'\n",
    "        elif fitting_model[i] == 'n':\n",
    "            params = norm.fit(returns[stock])\n",
    "            fitting = 'n'\n",
    "        parameters.append(params)\n",
    "        assets_returns_cdf[stock] = t.cdf(returns[stock],df=params[0], loc=params[1], scale = params[2]) if fitting == 't' else norm.cdf(returns[stock],loc=params[0], scale = params[1])\n",
    "\n",
    "    # Simulate N samples with spearman correlation matrix\n",
    "    np.random.seed(seed)\n",
    "    spearman_corr_matrix = assets_returns_cdf.corr(method='spearman')\n",
    "    sim_sample = simulation.multivariate_normal_simulation(spearman_corr_matrix, n_sample, method='pca',seed=seed)\n",
    "    sim_sample = pd.DataFrame(sim_sample, columns=stocks)\n",
    "\n",
    "    # Convert simulation result with cdf of standard normal distribution\n",
    "    sim_sample_cdf = pd.DataFrame()\n",
    "    for stock in stocks:\n",
    "        sim_sample_cdf[stock] = norm.cdf(sim_sample[stock],loc=0,scale=1)\n",
    "            \n",
    "    # Convert cdf matrix to return matrix with parameter\n",
    "    sim_returns = pd.DataFrame()\n",
    "    for i, stock in enumerate(stocks):\n",
    "        if fitting_model[i] == 't':       \n",
    "            sim_returns[stock] = t.ppf(sim_sample_cdf[stock], df=parameters[i][0], loc=parameters[i][1], scale = parameters[i][2])\n",
    "        elif fitting_model[i] == 'n':\n",
    "            sim_returns[stock] = norm.ppf(sim_sample_cdf[stock],  loc=parameters[i][0], scale = parameters[i][1])\n",
    "    \n",
    "    return sim_returns, pd.DataFrame(parameters,index=[stocks,fitting_model])"
   ]
  },
  {
   "cell_type": "code",
   "execution_count": 17,
   "metadata": {},
   "outputs": [],
   "source": [
    "sim_returns, params = gaussian_copula(all_returns, seed=1)"
   ]
  },
  {
   "attachments": {},
   "cell_type": "markdown",
   "metadata": {},
   "source": [
    "#### 5.1 Calculate VaR for each asset"
   ]
  },
  {
   "cell_type": "code",
   "execution_count": 18,
   "metadata": {},
   "outputs": [
    {
     "name": "stdout",
     "output_type": "stream",
     "text": [
      "For Asset 1, the VaR is 0.000814, $VaR is 0.092485.\n",
      "For Asset 2, the VaR is 0.000547, $VaR is 0.049353.\n",
      "For Asset 3, the VaR is 0.000498, $VaR is 0.043831.\n",
      "For Asset 4, the VaR is 0.000720, $VaR is 0.062007.\n"
     ]
    }
   ],
   "source": [
    "for i, asset in enumerate(sim_returns.columns):\n",
    "    single_VaR = VaR.calculate_var(sim_returns[asset])\n",
    "    single_dollar_VaR = VaR.calculate_var(sim_returns[asset] * latest_prices[i])\n",
    "\n",
    "    print(\"For Asset {}, the VaR is {:.6f}, $VaR is {:.6f}.\".format(i+1,single_VaR, single_dollar_VaR))"
   ]
  },
  {
   "attachments": {},
   "cell_type": "markdown",
   "metadata": {},
   "source": [
    "#### 5.2 Calculate VaR for a portfolio of Asset 1 & 2 and a portfolio of Asset 3 & 4"
   ]
  },
  {
   "cell_type": "code",
   "execution_count": 19,
   "metadata": {},
   "outputs": [
    {
     "name": "stdout",
     "output_type": "stream",
     "text": [
      "For Portfolio of Asset 1 & 2, the VaR is 0.000670, $VaR is 0.136627.\n"
     ]
    }
   ],
   "source": [
    "VaR_12 = VaR.calculate_var(sim_returns[['Price1','Price2']].dot(latest_prices[:2]))\n",
    "print(\"For Portfolio of Asset 1 & 2, the VaR is {:.6f}, $VaR is {:.6f}.\".format(VaR_12/sum(latest_prices[:2]),VaR_12))"
   ]
  },
  {
   "cell_type": "code",
   "execution_count": 20,
   "metadata": {},
   "outputs": [
    {
     "name": "stdout",
     "output_type": "stream",
     "text": [
      "For Portfolio of Asset 3 & 4, the VaR is 0.000592, $VaR is 0.103059.\n"
     ]
    }
   ],
   "source": [
    "VaR_34 = VaR.calculate_var(sim_returns[['Price3','Price4']].dot(latest_prices[2:]))\n",
    "print(\"For Portfolio of Asset 3 & 4, the VaR is {:.6f}, $VaR is {:.6f}.\".format(VaR_34/sum(latest_prices[2:]),VaR_34))"
   ]
  },
  {
   "attachments": {},
   "cell_type": "markdown",
   "metadata": {},
   "source": [
    "#### 5.3 Calculate VaR for the whole portfolio"
   ]
  },
  {
   "cell_type": "code",
   "execution_count": 21,
   "metadata": {},
   "outputs": [
    {
     "name": "stdout",
     "output_type": "stream",
     "text": [
      "For the whole Portfolio, the VaR is 0.000618, $VaR is 0.233630.\n"
     ]
    }
   ],
   "source": [
    "VaR_all = VaR.calculate_var(sim_returns.dot(latest_prices))\n",
    "print(\"For the whole Portfolio, the VaR is {:.6f}, $VaR is {:.6f}.\".format(VaR_all/sum(latest_prices),VaR_all))"
   ]
  },
  {
   "cell_type": "code",
   "execution_count": null,
   "metadata": {},
   "outputs": [],
   "source": []
  }
 ],
 "metadata": {
  "kernelspec": {
   "display_name": "Python 3",
   "language": "python",
   "name": "python3"
  },
  "language_info": {
   "codemirror_mode": {
    "name": "ipython",
    "version": 3
   },
   "file_extension": ".py",
   "mimetype": "text/x-python",
   "name": "python",
   "nbconvert_exporter": "python",
   "pygments_lexer": "ipython3",
   "version": "3.9.12"
  },
  "orig_nbformat": 4
 },
 "nbformat": 4,
 "nbformat_minor": 2
}
