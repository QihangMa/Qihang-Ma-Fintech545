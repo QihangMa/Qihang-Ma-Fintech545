{
 "cells": [
  {
   "attachments": {},
   "cell_type": "markdown",
   "metadata": {},
   "source": [
    "# Final 2022 Fall\n",
    "\n",
    "###### Created by Qihang Ma -- 2023.04.26"
   ]
  },
  {
   "cell_type": "code",
   "execution_count": 25,
   "metadata": {},
   "outputs": [],
   "source": [
    "import warnings\n",
    "warnings.filterwarnings(\"ignore\")\n",
    "from RiskLib import calculation, cov_matrix, linear_regression, optimal_portfolio, risk_attribution, risk_parity, Option, simulation, VaR\n",
    "import pandas as pd\n",
    "import numpy as np\n",
    "import datetime as dt\n",
    "from scipy.optimize import fsolve, minimize\n",
    "import statsmodels.api as sm\n",
    "from scipy.stats import t, norm, kurtosis, skew\n",
    "import matplotlib.pyplot as plt"
   ]
  },
  {
   "attachments": {},
   "cell_type": "markdown",
   "metadata": {},
   "source": [
    "## Problem 1\n",
    "\n",
    "Discuss the difference between Market, Credit, and Liquidity risks?\n",
    "\n",
    "\n",
    "Market risk, credit risk, and liquidity risk are three types of risks that financial institutions and investors face. Here are the key differences between them:\n",
    "\n",
    "1. Market Risk: Market risk is the risk of losses due to changes in market prices or values, such as fluctuations in interest rates, foreign exchange rates, or stock prices. Market risk affects the value of financial instruments, such as stocks, bonds, and derivatives, and can result in financial losses for investors.\n",
    "\n",
    "2. Credit Risk: Credit risk is the risk of losses due to the failure of borrowers to repay their debts. This can occur when borrowers default on loans, bonds, or other financial instruments, leading to losses for lenders and investors.\n",
    "\n",
    "3. Liquidity Risk: Liquidity risk is the risk of not being able to sell or buy a financial asset quickly enough or at a fair price to meet financial obligations. This can occur when there is a shortage of buyers or sellers, leading to a decline in market liquidity, or when there is a sudden need for cash due to unforeseen circumstances.\n",
    "\n",
    "In summary, market risk relates to changes in market values, credit risk relates to the ability of borrowers to repay debts, and liquidity risk relates to the ability to sell or buy assets quickly and at a fair price. Financial institutions and investors must manage these risks to protect their investments and ensure financial stability.\n",
    "\n",
    "\n",
    "\n",
    "\n"
   ]
  },
  {
   "attachments": {},
   "cell_type": "markdown",
   "metadata": {},
   "source": [
    "# Problem 2\n",
    "\n",
    "Assume, Risk Free = 4%, Implied Volatility=20%, Stock Price = 100, Strike Price=$90, No dividends are paid.\n",
    "\n",
    "a. What are the value and greeks (Delta, Gamma, Vega,and Theta) of a short put with 30 days (365 total yearly days) until maturity?\n",
    "\n",
    "b. After 5 days, assuming the price and implied volatility has not changed, what are the greeks for the same short put position?"
   ]
  },
  {
   "cell_type": "code",
   "execution_count": 26,
   "metadata": {},
   "outputs": [],
   "source": [
    "S0 = 100\n",
    "K = 90\n",
    "ivol = 0.2\n",
    "r = 0.04\n",
    "T0 = 30/365"
   ]
  },
  {
   "cell_type": "code",
   "execution_count": 27,
   "metadata": {},
   "outputs": [
    {
     "data": {
      "text/html": [
       "<div>\n",
       "<style scoped>\n",
       "    .dataframe tbody tr th:only-of-type {\n",
       "        vertical-align: middle;\n",
       "    }\n",
       "\n",
       "    .dataframe tbody tr th {\n",
       "        vertical-align: top;\n",
       "    }\n",
       "\n",
       "    .dataframe thead th {\n",
       "        text-align: right;\n",
       "    }\n",
       "</style>\n",
       "<table border=\"1\" class=\"dataframe\">\n",
       "  <thead>\n",
       "    <tr style=\"text-align: right;\">\n",
       "      <th></th>\n",
       "      <th>Value</th>\n",
       "      <th>Delta</th>\n",
       "      <th>Gamma</th>\n",
       "      <th>Vega</th>\n",
       "      <th>Theta</th>\n",
       "      <th>Rho</th>\n",
       "      <th>Carry Rho</th>\n",
       "    </tr>\n",
       "  </thead>\n",
       "  <tbody>\n",
       "    <tr>\n",
       "      <th>Short</th>\n",
       "      <td>-0.060818</td>\n",
       "      <td>0.027206</td>\n",
       "      <td>-0.01094</td>\n",
       "      <td>-1.798386</td>\n",
       "      <td>2.076778</td>\n",
       "      <td>0.228614</td>\n",
       "      <td>0.223615</td>\n",
       "    </tr>\n",
       "  </tbody>\n",
       "</table>\n",
       "</div>"
      ],
      "text/plain": [
       "          Value     Delta    Gamma      Vega     Theta       Rho  Carry Rho\n",
       "Short -0.060818  0.027206 -0.01094 -1.798386  2.076778  0.228614   0.223615"
      ]
     },
     "execution_count": 27,
     "metadata": {},
     "output_type": "execute_result"
    }
   ],
   "source": [
    "BuyingBS = Option.black_scholes_matrix(S0, K, T0, r, 0, ivol, 'put')\n",
    "greeks = pd.DataFrame(BuyingBS.greeks(),index=['Short']) * -1\n",
    "greeks "
   ]
  },
  {
   "cell_type": "code",
   "execution_count": 28,
   "metadata": {},
   "outputs": [
    {
     "data": {
      "text/html": [
       "<div>\n",
       "<style scoped>\n",
       "    .dataframe tbody tr th:only-of-type {\n",
       "        vertical-align: middle;\n",
       "    }\n",
       "\n",
       "    .dataframe tbody tr th {\n",
       "        vertical-align: top;\n",
       "    }\n",
       "\n",
       "    .dataframe thead th {\n",
       "        text-align: right;\n",
       "    }\n",
       "</style>\n",
       "<table border=\"1\" class=\"dataframe\">\n",
       "  <thead>\n",
       "    <tr style=\"text-align: right;\">\n",
       "      <th></th>\n",
       "      <th>Value</th>\n",
       "      <th>Delta</th>\n",
       "      <th>Gamma</th>\n",
       "      <th>Vega</th>\n",
       "      <th>Theta</th>\n",
       "      <th>Rho</th>\n",
       "      <th>Carry Rho</th>\n",
       "    </tr>\n",
       "  </thead>\n",
       "  <tbody>\n",
       "    <tr>\n",
       "      <th>Short(T+5)</th>\n",
       "      <td>-0.035279</td>\n",
       "      <td>0.018245</td>\n",
       "      <td>-0.008555</td>\n",
       "      <td>-1.17198</td>\n",
       "      <td>1.6367</td>\n",
       "      <td>0.127383</td>\n",
       "      <td>0.124966</td>\n",
       "    </tr>\n",
       "  </tbody>\n",
       "</table>\n",
       "</div>"
      ],
      "text/plain": [
       "               Value     Delta     Gamma     Vega   Theta       Rho  Carry Rho\n",
       "Short(T+5) -0.035279  0.018245 -0.008555 -1.17198  1.6367  0.127383   0.124966"
      ]
     },
     "execution_count": 28,
     "metadata": {},
     "output_type": "execute_result"
    }
   ],
   "source": [
    "T1 = 25/365\n",
    "five_days_later_BS = Option.black_scholes_matrix(S0, K, T1, r, 0, ivol, 'put')\n",
    "greeks = pd.DataFrame(five_days_later_BS.greeks(),index=['Short(T+5)']) * -1\n",
    "greeks "
   ]
  },
  {
   "attachments": {},
   "cell_type": "markdown",
   "metadata": {},
   "source": [
    "## Problem 3 \n",
    "\n",
    "Use data in question3.csv. This is a simulation of prices 5 days forward for the underlying from Question 2.\n",
    "\n",
    "a. Graph the dollar Profit and Loss from the short put position after these 5 days.\n",
    "\n",
    "b. What is VaR and ES?\n",
    "\n",
    "c. Discuss the risk versus return for this position."
   ]
  },
  {
   "cell_type": "code",
   "execution_count": 29,
   "metadata": {},
   "outputs": [],
   "source": [
    "price_after_5_days = pd.read_csv(\"question3.csv\")\n",
    "price_after_5_days['Value'] = price_after_5_days['fwdPrices'].apply(lambda x : Option.black_scholes(x, K, T1, r, 0, ivol, 'put'))\n",
    "profit_and_loss = BuyingBS.price() -  price_after_5_days['Value']"
   ]
  },
  {
   "cell_type": "code",
   "execution_count": 30,
   "metadata": {},
   "outputs": [],
   "source": [
    "profit_and_loss = np.array(BuyingBS.price() -  price_after_5_days['Value'])"
   ]
  },
  {
   "cell_type": "code",
   "execution_count": 31,
   "metadata": {},
   "outputs": [],
   "source": [
    "Var = VaR.calculate_var(profit_and_loss)\n",
    "ES = VaR.calculate_ES(profit_and_loss)"
   ]
  },
  {
   "cell_type": "code",
   "execution_count": 32,
   "metadata": {},
   "outputs": [
    {
     "name": "stdout",
     "output_type": "stream",
     "text": [
      "Mean: 0.014612\n",
      "StDev: 0.056278\n",
      "Variance: 0.003167\n",
      "Skew: -3.649633\n",
      "Kurt: 21.642387\n",
      "\n",
      "VaR: 0.089816\n",
      "ES: 0.169095\n"
     ]
    }
   ],
   "source": [
    "print(\"Mean: {:.6f}\"  .format(np.mean(profit_and_loss)))\n",
    "print(\"StDev: {:.6f}\".format(np.std(profit_and_loss)))\n",
    "print(\"Variance: {:.6f}\" .format(np.var(profit_and_loss)))\n",
    "print(\"Skew: {:.6f}\"  .format(skew(profit_and_loss)))\n",
    "print(\"Kurt: {:.6f}\\n\" .format(kurtosis(profit_and_loss)))\n",
    "print(\"VaR: {:.6f}\"  .format(Var))\n",
    "print(\"ES: {:.6f}\" .format(ES))"
   ]
  },
  {
   "attachments": {},
   "cell_type": "markdown",
   "metadata": {},
   "source": [
    "## Problem 4\n",
    "\n",
    "Assume you own 3 stocks, GE, IBM, AMZN. Describe how you would attribute each stock’s contribution to ex-Ante risk."
   ]
  },
  {
   "attachments": {},
   "cell_type": "markdown",
   "metadata": {},
   "source": [
    "1. Decide on an ex-Ante risk model.\n",
    "\n",
    "2. Calculate the weight of each stock in the portfolio.\n",
    "\n",
    "3. Calculate the gradient of risk wrt stocks.\n",
    "\n",
    "4. Multiply each partial derivative with that stock's weight.\n",
    "\n",
    "5. The result is the ex-ante contribution to risk."
   ]
  },
  {
   "attachments": {},
   "cell_type": "markdown",
   "metadata": {},
   "source": [
    "## Problem 5\n",
    "\n",
    "Use data in question5.csv.\n",
    "\n",
    "  a. Plot the Autocorrelation and Partial Autocorrelation Functions.\n",
    "  \n",
    "  b. Is this data a Moving Average Process, Autoregressive Process, or neither. Why?\n",
    "  \n",
    "  c. If it is a MA or AR process, what is the order?"
   ]
  },
  {
   "cell_type": "code",
   "execution_count": 33,
   "metadata": {},
   "outputs": [
    {
     "data": {
      "image/png": "[encoded data removed]",
      "text/plain": [
       "<Figure size 640x480 with 1 Axes>"
      ]
     },
     "metadata": {},
     "output_type": "display_data"
    },
    {
     "data": {
      "image/png": "[encoded data removed]",
      "text/plain": [
       "<Figure size 640x480 with 1 Axes>"
      ]
     },
     "metadata": {},
     "output_type": "display_data"
    }
   ],
   "source": [
    "from statsmodels.graphics.tsaplots import plot_acf, plot_pacf\n",
    "\n",
    "# Load data\n",
    "data = pd.read_csv(\"question5.csv\")\n",
    "\n",
    "# Plot Autocorrelation Function\n",
    "plot_acf(data, lags=10)\n",
    "plt.show()\n",
    "\n",
    "# Plot Partial Autocorrelation Function\n",
    "plot_pacf(data, lags=10)\n",
    "plt.show()"
   ]
  },
  {
   "attachments": {},
   "cell_type": "markdown",
   "metadata": {},
   "source": [
    "This is an AR(3) process where the AR(1) and AR(2) betas are 0.  We can see from the PACF graph the only significant value is at lag=3.  The ACF has significant values at 3, 6, and 9.  These fall off in the typical pattern of an AR process. "
   ]
  },
  {
   "attachments": {},
   "cell_type": "markdown",
   "metadata": {},
   "source": [
    "## Problem 6\n",
    "\n",
    "Use data in question6.csv. You own 100 shares of AAPL and 100 shares of AMZN. You assume a structural model:\n",
    "\n",
    "𝐴𝐴𝑃𝐿 =α1 +β1𝑆𝑃𝑌 + ε1\n",
    "\n",
    "𝐴𝑀𝑍𝑁 = α2 +β2𝑆𝑃𝑌 +ε2\n",
    "\n",
    "You assume the stock returns and SPY returns are normally distributed. ε1&ε2 are iid and\n",
    "normally distributed (but not necessarily independent from each other).\n",
    "\n",
    "Using this model, calculate the VaR of your portfolio."
   ]
  },
  {
   "cell_type": "code",
   "execution_count": 34,
   "metadata": {},
   "outputs": [
    {
     "data": {
      "text/html": [
       "<div>\n",
       "<style scoped>\n",
       "    .dataframe tbody tr th:only-of-type {\n",
       "        vertical-align: middle;\n",
       "    }\n",
       "\n",
       "    .dataframe tbody tr th {\n",
       "        vertical-align: top;\n",
       "    }\n",
       "\n",
       "    .dataframe thead th {\n",
       "        text-align: right;\n",
       "    }\n",
       "</style>\n",
       "<table border=\"1\" class=\"dataframe\">\n",
       "  <thead>\n",
       "    <tr style=\"text-align: right;\">\n",
       "      <th></th>\n",
       "      <th>Date</th>\n",
       "      <th>SPY</th>\n",
       "      <th>AMZN</th>\n",
       "      <th>AAPL</th>\n",
       "    </tr>\n",
       "  </thead>\n",
       "  <tbody>\n",
       "    <tr>\n",
       "      <th>0</th>\n",
       "      <td>12/6/2021</td>\n",
       "      <td>451.951080</td>\n",
       "      <td>171.368500</td>\n",
       "      <td>164.366074</td>\n",
       "    </tr>\n",
       "    <tr>\n",
       "      <th>1</th>\n",
       "      <td>12/7/2021</td>\n",
       "      <td>461.299591</td>\n",
       "      <td>176.164505</td>\n",
       "      <td>170.192230</td>\n",
       "    </tr>\n",
       "    <tr>\n",
       "      <th>2</th>\n",
       "      <td>12/8/2021</td>\n",
       "      <td>462.521118</td>\n",
       "      <td>176.158005</td>\n",
       "      <td>174.069733</td>\n",
       "    </tr>\n",
       "    <tr>\n",
       "      <th>3</th>\n",
       "      <td>12/9/2021</td>\n",
       "      <td>459.398376</td>\n",
       "      <td>174.171005</td>\n",
       "      <td>173.552734</td>\n",
       "    </tr>\n",
       "    <tr>\n",
       "      <th>4</th>\n",
       "      <td>12/10/2021</td>\n",
       "      <td>463.722900</td>\n",
       "      <td>172.212006</td>\n",
       "      <td>178.414536</td>\n",
       "    </tr>\n",
       "    <tr>\n",
       "      <th>...</th>\n",
       "      <td>...</td>\n",
       "      <td>...</td>\n",
       "      <td>...</td>\n",
       "      <td>...</td>\n",
       "    </tr>\n",
       "    <tr>\n",
       "      <th>246</th>\n",
       "      <td>11/28/2022</td>\n",
       "      <td>395.910004</td>\n",
       "      <td>93.949997</td>\n",
       "      <td>144.220001</td>\n",
       "    </tr>\n",
       "    <tr>\n",
       "      <th>247</th>\n",
       "      <td>11/29/2022</td>\n",
       "      <td>395.230011</td>\n",
       "      <td>92.419998</td>\n",
       "      <td>141.169998</td>\n",
       "    </tr>\n",
       "    <tr>\n",
       "      <th>248</th>\n",
       "      <td>11/30/2022</td>\n",
       "      <td>407.679993</td>\n",
       "      <td>96.540001</td>\n",
       "      <td>148.029999</td>\n",
       "    </tr>\n",
       "    <tr>\n",
       "      <th>249</th>\n",
       "      <td>12/1/2022</td>\n",
       "      <td>407.380005</td>\n",
       "      <td>95.500000</td>\n",
       "      <td>148.309998</td>\n",
       "    </tr>\n",
       "    <tr>\n",
       "      <th>250</th>\n",
       "      <td>12/2/2022</td>\n",
       "      <td>406.910004</td>\n",
       "      <td>94.129997</td>\n",
       "      <td>147.809998</td>\n",
       "    </tr>\n",
       "  </tbody>\n",
       "</table>\n",
       "<p>251 rows × 4 columns</p>\n",
       "</div>"
      ],
      "text/plain": [
       "           Date         SPY        AMZN        AAPL\n",
       "0     12/6/2021  451.951080  171.368500  164.366074\n",
       "1     12/7/2021  461.299591  176.164505  170.192230\n",
       "2     12/8/2021  462.521118  176.158005  174.069733\n",
       "3     12/9/2021  459.398376  174.171005  173.552734\n",
       "4    12/10/2021  463.722900  172.212006  178.414536\n",
       "..          ...         ...         ...         ...\n",
       "246  11/28/2022  395.910004   93.949997  144.220001\n",
       "247  11/29/2022  395.230011   92.419998  141.169998\n",
       "248  11/30/2022  407.679993   96.540001  148.029999\n",
       "249   12/1/2022  407.380005   95.500000  148.309998\n",
       "250   12/2/2022  406.910004   94.129997  147.809998\n",
       "\n",
       "[251 rows x 4 columns]"
      ]
     },
     "execution_count": 34,
     "metadata": {},
     "output_type": "execute_result"
    }
   ],
   "source": [
    "all_price = pd.read_csv('question6.csv')\n",
    "all_price"
   ]
  },
  {
   "cell_type": "code",
   "execution_count": 35,
   "metadata": {},
   "outputs": [],
   "source": [
    "stocks = ['AMZN', 'AAPL']\n",
    "returns = calculation.return_calculate(all_price[stocks+['Date']]).drop('Date', axis=1)"
   ]
  },
  {
   "cell_type": "code",
   "execution_count": 36,
   "metadata": {},
   "outputs": [],
   "source": [
    "sim_return = pd.DataFrame(simulation.multivariate_normal_simulation(returns.cov(),10000, method = 'pca', mean = returns.mean(),seed=12), columns=stocks)\n",
    "\n",
    "weights = all_price[stocks].tail(1).values/np.sum(all_price[stocks].tail(1).values)\n",
    "portfolio_return = np.dot(sim_return, weights.T)\n",
    "\n",
    "sim_price_change = 100 * np.dot(1 + sim_return, all_price[stocks].tail(1).T)"
   ]
  },
  {
   "cell_type": "code",
   "execution_count": 37,
   "metadata": {},
   "outputs": [
    {
     "name": "stdout",
     "output_type": "stream",
     "text": [
      "VaR 95%: 0.039046, $ 944.67\n",
      "VaR 99%: 0.055112, $ 1333.39\n"
     ]
    }
   ],
   "source": [
    "print (\"VaR 95%: {:.6f}, $ {:.2f}\" .format(VaR.calculate_var(portfolio_return, np.mean(portfolio_return)), VaR.calculate_var(sim_price_change, sim_price_change.mean())))\n",
    "print (\"VaR 99%: {:.6f}, $ {:.2f}\" .format(VaR.calculate_var(portfolio_return, np.mean(portfolio_return),0.01), VaR.calculate_var(sim_price_change, sim_price_change.mean(),0.01)))"
   ]
  },
  {
   "attachments": {},
   "cell_type": "markdown",
   "metadata": {},
   "source": [
    "## Problem 7 \n",
    "\n",
    "Assume the have the same three variables and structural model as in Question #6. However, now\n",
    "we assume that ε1&ε2 are iid and distributed by a generalized Student T distribution. \n",
    "\n",
    "Describe how you would calculate VaR."
   ]
  },
  {
   "attachments": {},
   "cell_type": "markdown",
   "metadata": {},
   "source": [
    "1. fit the models to get the parameters and U values for the e1 and e2 variables.  Find the U values for SPY\n",
    "\n",
    "2. Use the spearman correlation between the e1, e2, and SPY U values to fit the Gaussian copula.\n",
    "\n",
    "3. Simulate from the copula and transform back to e1, e2, and SPY\n",
    "\n",
    "4. use the fitted Alpha and Beta values to transform e1, e2, and X into AMZN and AAPL.\n",
    "\n",
    "5. calculate the PnL for each simulations and calculate VaR"
   ]
  },
  {
   "attachments": {},
   "cell_type": "markdown",
   "metadata": {},
   "source": [
    "## Problem 8 \n",
    "\n",
    "Compare and contrast Standard Deviation, Value at Risk, and Expected Shortfall as competing risk measures. Discuss different assumptions such as underlying distributions as well as applications affect where one might be preferred over another."
   ]
  },
  {
   "attachments": {},
   "cell_type": "markdown",
   "metadata": {},
   "source": [
    "1. Standard Deviation and Expected Shortfall are coherent risk measures while VaR is not.\n",
    "\n",
    "2. Standard Deviation assumes a Symmetric distribution of returns where VaR and ES do not.\n",
    "\n",
    "3. VaR and ES do not rely on a symmetric distribution of returns and take into account higher moments.\n",
    "\n",
    "4. If a normal distribution is assumed, then SD, VaR, and ES are equivilent with VaR and ES being a multiple of SD.\n",
    "\n",
    "5. Most portfolio metrics assume normallity and as such use SD.\n",
    "\n",
    "6. Breaking the normallity assumption for portfolio construction it is best to use ES as it is\n",
    "coherent and convex, making the optimization easier to solve."
   ]
  },
  {
   "attachments": {},
   "cell_type": "markdown",
   "metadata": {},
   "source": [
    "## Problem 9\n",
    "\n",
    "Given 3 Assets, A, B, and C. The risk free rate is 4%. The correlation matrix is:\n",
    "\n",
    "    3×3 Matrix{Float64}: \n",
    "            1.0 0.7 0.4\n",
    "            0.7 1.0 0.6\n",
    "            0.4 0.6 1.0\n",
    "\n",
    "Volatilities are\n",
    "\n",
    "3-element Vector{Float64}: 0.1 0.2 0.3\n",
    "\n",
    "Expected Returns are\n",
    "\n",
    "3-element Vector{Float64}: 0.05 0.07 0.09\n",
    "\n",
    "What is the maximum sharpe ratio portfolio with no constraints on negative weights?"
   ]
  },
  {
   "cell_type": "code",
   "execution_count": 38,
   "metadata": {},
   "outputs": [],
   "source": [
    "assets = ['A', 'B', 'C']\n",
    "corel_matrix = np.array([[1.0, 0.7, 0.4],[0.7, 1.0, 0.6],[0.4, 0.6, 1.0]])\n",
    "vol = np.array([0.1, 0.2, 0.3])\n",
    "exp_return = np.array([0.05, 0.07, 0.09])\n",
    "\n",
    "cov_matrix = pd.DataFrame(np.diag(vol) @ corel_matrix @ np.diag(vol), index=[assets], columns = [assets])"
   ]
  },
  {
   "cell_type": "code",
   "execution_count": 39,
   "metadata": {},
   "outputs": [
    {
     "data": {
      "text/html": [
       "<div>\n",
       "<style scoped>\n",
       "    .dataframe tbody tr th:only-of-type {\n",
       "        vertical-align: middle;\n",
       "    }\n",
       "\n",
       "    .dataframe tbody tr th {\n",
       "        vertical-align: top;\n",
       "    }\n",
       "\n",
       "    .dataframe thead th {\n",
       "        text-align: right;\n",
       "    }\n",
       "</style>\n",
       "<table border=\"1\" class=\"dataframe\">\n",
       "  <thead>\n",
       "    <tr style=\"text-align: right;\">\n",
       "      <th></th>\n",
       "      <th>Stock</th>\n",
       "      <th>Weight</th>\n",
       "      <th>cEr</th>\n",
       "    </tr>\n",
       "  </thead>\n",
       "  <tbody>\n",
       "    <tr>\n",
       "      <th>0</th>\n",
       "      <td>A</td>\n",
       "      <td>-0.068301</td>\n",
       "      <td>-0.003415</td>\n",
       "    </tr>\n",
       "    <tr>\n",
       "      <th>1</th>\n",
       "      <td>B</td>\n",
       "      <td>0.541484</td>\n",
       "      <td>0.037904</td>\n",
       "    </tr>\n",
       "    <tr>\n",
       "      <th>2</th>\n",
       "      <td>C</td>\n",
       "      <td>0.526817</td>\n",
       "      <td>0.047414</td>\n",
       "    </tr>\n",
       "  </tbody>\n",
       "</table>\n",
       "</div>"
      ],
      "text/plain": [
       "  Stock    Weight       cEr\n",
       "0     A -0.068301 -0.003415\n",
       "1     B  0.541484  0.037904\n",
       "2     C  0.526817  0.047414"
      ]
     },
     "execution_count": 39,
     "metadata": {},
     "output_type": "execute_result"
    }
   ],
   "source": [
    "Optweight,_ = optimal_portfolio.Optweight_sr(assets, exp_return, cov_matrix, 0.04, (None, None))\n",
    "Optweight"
   ]
  },
  {
   "attachments": {},
   "cell_type": "markdown",
   "metadata": {},
   "source": [
    "## Problem 10\n",
    "\n",
    "Given the covariance structure in #9,\n",
    "\n",
    "a. What are the risk parity portfolio weights?\n",
    "\n",
    "b. Discuss the differences between the portfolios found in #9 and #10."
   ]
  },
  {
   "cell_type": "code",
   "execution_count": 40,
   "metadata": {},
   "outputs": [
    {
     "data": {
      "text/html": [
       "<div>\n",
       "<style scoped>\n",
       "    .dataframe tbody tr th:only-of-type {\n",
       "        vertical-align: middle;\n",
       "    }\n",
       "\n",
       "    .dataframe tbody tr th {\n",
       "        vertical-align: top;\n",
       "    }\n",
       "\n",
       "    .dataframe thead th {\n",
       "        text-align: right;\n",
       "    }\n",
       "</style>\n",
       "<table border=\"1\" class=\"dataframe\">\n",
       "  <thead>\n",
       "    <tr style=\"text-align: right;\">\n",
       "      <th></th>\n",
       "      <th>Weight</th>\n",
       "      <th>cEr</th>\n",
       "      <th>CSD</th>\n",
       "    </tr>\n",
       "  </thead>\n",
       "  <tbody>\n",
       "    <tr>\n",
       "      <th>A</th>\n",
       "      <td>0.554199</td>\n",
       "      <td>0.027710</td>\n",
       "      <td>0.045892</td>\n",
       "    </tr>\n",
       "    <tr>\n",
       "      <th>B</th>\n",
       "      <td>0.254507</td>\n",
       "      <td>0.017816</td>\n",
       "      <td>0.045893</td>\n",
       "    </tr>\n",
       "    <tr>\n",
       "      <th>C</th>\n",
       "      <td>0.191293</td>\n",
       "      <td>0.017216</td>\n",
       "      <td>0.045892</td>\n",
       "    </tr>\n",
       "  </tbody>\n",
       "</table>\n",
       "</div>"
      ],
      "text/plain": [
       "     Weight       cEr       CSD\n",
       "A  0.554199  0.027710  0.045892\n",
       "B  0.254507  0.017816  0.045893\n",
       "C  0.191293  0.017216  0.045892"
      ]
     },
     "execution_count": 40,
     "metadata": {},
     "output_type": "execute_result"
    }
   ],
   "source": [
    "vol_rp = risk_parity.vol_risk_parity(exp_return, cov_matrix)\n",
    "vol_rp"
   ]
  },
  {
   "cell_type": "code",
   "execution_count": 41,
   "metadata": {},
   "outputs": [
    {
     "name": "stdout",
     "output_type": "stream",
     "text": [
      "For #9:\n",
      "Expected Return: 0.081902\n",
      "Standard Deviation: 0.235357\n",
      "Sharp Ratio: 0.178037\n",
      "\n",
      "For #10:\n",
      "Expected Return: 0.062742\n",
      "Standard Deviation: 0.137676\n",
      "Sharp Ratio: 0.165184\n",
      "\n"
     ]
    }
   ],
   "source": [
    "rf = 0.04\n",
    "w1 = Optweight['Weight'].values\n",
    "w2 = vol_rp['Weight'].values\n",
    "\n",
    "def portfolio_stats(weight, exp_return, rf):\n",
    "    exp_return_portfolio = np.dot(weight, exp_return) \n",
    "    print(\"Expected Return: {:.6f}\".format(exp_return_portfolio))\n",
    "    std_portfolio = np.sqrt(np.dot(weight.T, np.dot(cov_matrix, weight)))\n",
    "    print(\"Standard Deviation: {:.6f}\".format(std_portfolio))\n",
    "    sharp_ratio = (exp_return_portfolio - rf) /std_portfolio\n",
    "    print(\"Sharp Ratio: {:.6f}\\n\".format(sharp_ratio))\n",
    "\n",
    "print(\"For #9:\")\n",
    "portfolio_stats(w1, exp_return, rf)\n",
    "\n",
    "print(\"For #10:\")\n",
    "portfolio_stats(w2, exp_return, rf)\n"
   ]
  },
  {
   "attachments": {},
   "cell_type": "markdown",
   "metadata": {},
   "source": [
    "## EC1\n",
    "\n",
    "The file ec1_history.csv contains monthly returns for 3 stocks (S1, S2, and S3) and returns for 2 factors (F1 and F2). The risk free rate is 0.3% per month. Factors returns are in excess of the risk free rate however stock returns are not.\n",
    "\n",
    "a. Calculate the factor Betas for each Stock.\n",
    "\n",
    "b. The file ec1_fwd.csv contains a series of returns for both stocks and factors. \n",
    " Assume the Alpha from the fitting above is 0. Assume you start the period holding with the stock\n",
    " weights as [0.3, 0.45, 0.25]. Attribute the realized excess return and standard deviation of the portfolio over the series to each factor. Report the residual as Portfolio Alpha."
   ]
  },
  {
   "cell_type": "code",
   "execution_count": 42,
   "metadata": {},
   "outputs": [],
   "source": [
    "dataset = pd.read_csv('ec1_history.csv')\n",
    "stocks = ['S1', 'S2', 'S3']\n",
    "factors = ['F1', 'F2']\n",
    "rf = 0.003"
   ]
  },
  {
   "attachments": {},
   "cell_type": "markdown",
   "metadata": {},
   "source": [
    "#### Calculate Alpha and Beta"
   ]
  },
  {
   "cell_type": "code",
   "execution_count": 43,
   "metadata": {},
   "outputs": [],
   "source": [
    "X = dataset[factors]\n",
    "X = sm.add_constant(X)\n",
    "\n",
    "y = dataset[stocks] - rf\n",
    "\n",
    "betas = pd.DataFrame(index=stocks, columns=factors)\n",
    "alphas = pd.DataFrame(index=stocks, columns=['Alpha'])\n",
    "\n",
    "\n",
    "for stock in stocks:\n",
    "    model = sm.OLS(y[stock], X).fit()\n",
    "    betas.loc[stock] = model.params[factors]\n",
    "    alphas.loc[stock] = model.params['const']"
   ]
  },
  {
   "attachments": {},
   "cell_type": "markdown",
   "metadata": {},
   "source": [
    "#### Fator Attribute"
   ]
  },
  {
   "cell_type": "code",
   "execution_count": 44,
   "metadata": {},
   "outputs": [
    {
     "data": {
      "text/html": [
       "<div>\n",
       "<style scoped>\n",
       "    .dataframe tbody tr th:only-of-type {\n",
       "        vertical-align: middle;\n",
       "    }\n",
       "\n",
       "    .dataframe tbody tr th {\n",
       "        vertical-align: top;\n",
       "    }\n",
       "\n",
       "    .dataframe thead th {\n",
       "        text-align: right;\n",
       "    }\n",
       "</style>\n",
       "<table border=\"1\" class=\"dataframe\">\n",
       "  <thead>\n",
       "    <tr style=\"text-align: right;\">\n",
       "      <th></th>\n",
       "      <th>Value</th>\n",
       "      <th>F1</th>\n",
       "      <th>F2</th>\n",
       "      <th>Alpha</th>\n",
       "      <th>Portfolio</th>\n",
       "    </tr>\n",
       "  </thead>\n",
       "  <tbody>\n",
       "    <tr>\n",
       "      <th>0</th>\n",
       "      <td>TotalReturn</td>\n",
       "      <td>0.039390</td>\n",
       "      <td>-0.120548</td>\n",
       "      <td>0.009444</td>\n",
       "      <td>0.011677</td>\n",
       "    </tr>\n",
       "    <tr>\n",
       "      <th>1</th>\n",
       "      <td>Return Attribution</td>\n",
       "      <td>0.030095</td>\n",
       "      <td>-0.027778</td>\n",
       "      <td>0.009360</td>\n",
       "      <td>0.011677</td>\n",
       "    </tr>\n",
       "    <tr>\n",
       "      <th>0</th>\n",
       "      <td>Vol Attribution</td>\n",
       "      <td>0.016190</td>\n",
       "      <td>0.006065</td>\n",
       "      <td>0.001852</td>\n",
       "      <td>0.024107</td>\n",
       "    </tr>\n",
       "  </tbody>\n",
       "</table>\n",
       "</div>"
      ],
      "text/plain": [
       "                Value        F1        F2     Alpha  Portfolio\n",
       "0         TotalReturn  0.039390 -0.120548  0.009444   0.011677\n",
       "1  Return Attribution  0.030095 -0.027778  0.009360   0.011677\n",
       "0     Vol Attribution  0.016190  0.006065  0.001852   0.024107"
      ]
     },
     "execution_count": 44,
     "metadata": {},
     "output_type": "execute_result"
    }
   ],
   "source": [
    "update_dataset = pd.read_csv('ec1_fwd.csv')\n",
    "upreturn = update_dataset[stocks] - rf\n",
    "upfactor = update_dataset[factors]\n",
    "\n",
    "w = np.array([0.3, 0.45, 0.25])\n",
    "\n",
    "risk_attribution.expost_factor(w, upreturn, upfactor, betas)"
   ]
  },
  {
   "attachments": {},
   "cell_type": "markdown",
   "metadata": {},
   "source": [
    "## EC2\n",
    "\n",
    "Using the data in ec2.csv.\n",
    "\n",
    "    a. 𝑋~𝑁(μ, σ)\n",
    "    b. 𝑌𝑖 =α𝑖 +β𝑖𝑋 +ε𝑖 𝑓𝑜𝑟 𝑖 ∈ [1,2]\n",
    "    c. ε𝑖~𝑇(0,σ𝑖,ν𝑖)𝑓𝑜𝑟 𝑖 ∈ [1,2]\n",
    "    d. Initial price of Y1 = $10.\n",
    "    e. Initial price of Y2 = $50.\n",
    "    f. You hold a portfolio of 100 shares of both Y1 and Y2\n",
    "    \n",
    "What is the VaR and ES of the portfolio, given the information above, expressed as a $ profit and loss?"
   ]
  },
  {
   "cell_type": "code",
   "execution_count": 45,
   "metadata": {},
   "outputs": [
    {
     "data": {
      "text/html": [
       "<div>\n",
       "<style scoped>\n",
       "    .dataframe tbody tr th:only-of-type {\n",
       "        vertical-align: middle;\n",
       "    }\n",
       "\n",
       "    .dataframe tbody tr th {\n",
       "        vertical-align: top;\n",
       "    }\n",
       "\n",
       "    .dataframe thead th {\n",
       "        text-align: right;\n",
       "    }\n",
       "</style>\n",
       "<table border=\"1\" class=\"dataframe\">\n",
       "  <thead>\n",
       "    <tr style=\"text-align: right;\">\n",
       "      <th></th>\n",
       "      <th>x</th>\n",
       "      <th>y1</th>\n",
       "      <th>y2</th>\n",
       "    </tr>\n",
       "  </thead>\n",
       "  <tbody>\n",
       "    <tr>\n",
       "      <th>0</th>\n",
       "      <td>-0.012468</td>\n",
       "      <td>-0.016896</td>\n",
       "      <td>-0.010039</td>\n",
       "    </tr>\n",
       "    <tr>\n",
       "      <th>1</th>\n",
       "      <td>-0.031405</td>\n",
       "      <td>-0.037753</td>\n",
       "      <td>-0.024188</td>\n",
       "    </tr>\n",
       "    <tr>\n",
       "      <th>2</th>\n",
       "      <td>-0.035380</td>\n",
       "      <td>-0.046763</td>\n",
       "      <td>-0.030678</td>\n",
       "    </tr>\n",
       "    <tr>\n",
       "      <th>3</th>\n",
       "      <td>0.012044</td>\n",
       "      <td>0.013297</td>\n",
       "      <td>0.010900</td>\n",
       "    </tr>\n",
       "    <tr>\n",
       "      <th>4</th>\n",
       "      <td>-0.009185</td>\n",
       "      <td>-0.011777</td>\n",
       "      <td>-0.007490</td>\n",
       "    </tr>\n",
       "    <tr>\n",
       "      <th>...</th>\n",
       "      <td>...</td>\n",
       "      <td>...</td>\n",
       "      <td>...</td>\n",
       "    </tr>\n",
       "    <tr>\n",
       "      <th>95</th>\n",
       "      <td>0.011420</td>\n",
       "      <td>0.011105</td>\n",
       "      <td>0.009198</td>\n",
       "    </tr>\n",
       "    <tr>\n",
       "      <th>96</th>\n",
       "      <td>0.031483</td>\n",
       "      <td>0.035942</td>\n",
       "      <td>0.023253</td>\n",
       "    </tr>\n",
       "    <tr>\n",
       "      <th>97</th>\n",
       "      <td>-0.039932</td>\n",
       "      <td>-0.048971</td>\n",
       "      <td>-0.030514</td>\n",
       "    </tr>\n",
       "    <tr>\n",
       "      <th>98</th>\n",
       "      <td>0.016438</td>\n",
       "      <td>0.017747</td>\n",
       "      <td>0.012462</td>\n",
       "    </tr>\n",
       "    <tr>\n",
       "      <th>99</th>\n",
       "      <td>0.020788</td>\n",
       "      <td>0.021900</td>\n",
       "      <td>0.014094</td>\n",
       "    </tr>\n",
       "  </tbody>\n",
       "</table>\n",
       "<p>100 rows × 3 columns</p>\n",
       "</div>"
      ],
      "text/plain": [
       "           x        y1        y2\n",
       "0  -0.012468 -0.016896 -0.010039\n",
       "1  -0.031405 -0.037753 -0.024188\n",
       "2  -0.035380 -0.046763 -0.030678\n",
       "3   0.012044  0.013297  0.010900\n",
       "4  -0.009185 -0.011777 -0.007490\n",
       "..       ...       ...       ...\n",
       "95  0.011420  0.011105  0.009198\n",
       "96  0.031483  0.035942  0.023253\n",
       "97 -0.039932 -0.048971 -0.030514\n",
       "98  0.016438  0.017747  0.012462\n",
       "99  0.020788  0.021900  0.014094\n",
       "\n",
       "[100 rows x 3 columns]"
      ]
     },
     "execution_count": 45,
     "metadata": {},
     "output_type": "execute_result"
    }
   ],
   "source": [
    "dataset = pd.read_csv('ec2.csv')\n",
    "dataset"
   ]
  },
  {
   "cell_type": "code",
   "execution_count": 46,
   "metadata": {},
   "outputs": [],
   "source": [
    "parameters_y1, error_y1 = linear_regression.fit_regression_t(dataset['y1'],dataset['x'])\n",
    "parameters_y2, error_y2 = linear_regression.fit_regression_t(dataset['y2'],dataset['x'])"
   ]
  },
  {
   "cell_type": "code",
   "execution_count": 47,
   "metadata": {},
   "outputs": [],
   "source": [
    "VaRs = []\n",
    "ESs = []\n",
    "\n",
    "for i in range(100):\n",
    "    fitting_data  = pd.DataFrame({'error_y1': error_y1,\n",
    "                                'error_y2': error_y2,\n",
    "                                'X': dataset['x']})\n",
    "    fitting_model = np.array(['t','t','n'])\n",
    "    sim_return, p = simulation.gaussian_copula(fitting_data,fitting_model,seed=i)\n",
    "    sim_return['y1'] = sim_return.apply(lambda x: x[2]*parameters_y1['beta']+parameters_y1['alpha']+x[0], axis=1)\n",
    "    sim_return['y2'] = sim_return.apply(lambda x: x[2]*parameters_y2['beta']+parameters_y2['alpha']+x[1], axis=1)\n",
    "    pnl = sim_return[['y1', 'y2']] @ np.array([10,50]) * 100\n",
    "    VaRs.append(VaR.calculate_var(pnl))\n",
    "    ESs.append(VaR.calculate_ES(pnl))\n",
    "VaRs = np.array(VaRs)\n",
    "ESs = np.array(ESs)"
   ]
  },
  {
   "cell_type": "code",
   "execution_count": 48,
   "metadata": {},
   "outputs": [
    {
     "name": "stdout",
     "output_type": "stream",
     "text": [
      "VaR Mean: 176.9358 -- 5% range [173.2143, 181.3280].\n",
      "ES Mean: 219.3506 -- 5% range [214.7492, 223.6549].\n"
     ]
    }
   ],
   "source": [
    "print(\"VaR Mean: {:.4f} -- 5% range [{:.4f}, {:.4f}].\".format(VaRs.mean(), np.quantile(VaRs, 0.025), np.quantile(VaRs, 0.975)))\n",
    "print(\"ES Mean: {:.4f} -- 5% range [{:.4f}, {:.4f}].\".format(ESs.mean(), np.quantile(ESs, 0.025), np.quantile(ESs, 0.975)))"
   ]
  },
  {
   "cell_type": "code",
   "execution_count": null,
   "metadata": {},
   "outputs": [],
   "source": []
  }
 ],
 "metadata": {
  "kernelspec": {
   "display_name": "base",
   "language": "python",
   "name": "python3"
  },
  "language_info": {
   "codemirror_mode": {
    "name": "ipython",
    "version": 3
   },
   "file_extension": ".py",
   "mimetype": "text/x-python",
   "name": "python",
   "nbconvert_exporter": "python",
   "pygments_lexer": "ipython3",
   "version": "3.9.12"
  },
  "orig_nbformat": 4
 },
 "nbformat": 4,
 "nbformat_minor": 2
}
