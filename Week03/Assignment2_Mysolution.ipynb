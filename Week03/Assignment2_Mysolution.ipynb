{
 "cells": [
  {
   "cell_type": "markdown",
   "id": "c33d2fb5",
   "metadata": {},
   "source": [
    "# Assignment 2"
   ]
  },
  {
   "cell_type": "markdown",
   "id": "b9ff8b57",
   "metadata": {},
   "source": [
    "###### Created by Qihang Ma -- 2023.02.06\n"
   ]
  },
  {
   "cell_type": "code",
   "execution_count": 1,
   "id": "acc58c5b",
   "metadata": {},
   "outputs": [],
   "source": [
    "import warnings\n",
    "warnings.filterwarnings(\"ignore\")\n",
    "import pandas as pd\n",
    "import numpy as np\n",
    "import matplotlib.pyplot as plt\n",
    "import time"
   ]
  },
  {
   "cell_type": "markdown",
   "id": "b6f2ad96",
   "metadata": {},
   "source": [
    "## Problem 1 - Exponentially Weighted Covariance Matrix"
   ]
  },
  {
   "cell_type": "markdown",
   "id": "a40bf7fd",
   "metadata": {},
   "source": [
    "Use the stock returns in DailyReturn.csv for this problem. DailyReturn.csv contains returns for 100 large US stocks and as well as the ETF, SPY which tracks the S&P500.\n",
    "\n",
    "Create a routine for calculating an exponentially weighted covariance matrix. If you have a package that calculates it for you, verify that it calculates the values you expect. This means you still have to implement it.\n",
    "\n",
    "Vary λ ∈ (0, 1). Use PCA and plot the cumulative variance explained by each eigenvalue for each λchosen.\n",
    "\n",
    "What does this tell us about values of λ and the effect it has on the covariance matrix?"
   ]
  },
  {
   "cell_type": "code",
   "execution_count": 2,
   "id": "dca057b7",
   "metadata": {},
   "outputs": [],
   "source": [
    "# Load the data\n",
    "df = pd.read_csv(\"DailyReturn.csv\")\n",
    "df.drop('Unnamed: 0', axis=1, inplace=True)"
   ]
  },
  {
   "cell_type": "markdown",
   "id": "e511beac",
   "metadata": {},
   "source": [
    "#### Function for calculating an exponentially weighted covariance matrix"
   ]
  },
  {
   "cell_type": "code",
   "execution_count": 3,
   "id": "4fcaf0dd",
   "metadata": {},
   "outputs": [],
   "source": [
    "def exp_weighted_cov(returns, lambda_=0.97):\n",
    "    \"\"\"\n",
    "    Perform calculation on the input data set with a given λ for exponentially weighted covariance.\n",
    "    \n",
    "    Parameters:\n",
    "    - data: input data set, a pandas DataFrame\n",
    "    - lambda_: fraction for unpdate the covariance matrix, default 0.97\n",
    "    \n",
    "    Returns:\n",
    "    cov: an exponentially weighted covariance matrix, a numpy array\n",
    "    \"\"\"\n",
    "    \n",
    "    # Preprocess the data\n",
    "    returns = returns.values\n",
    "    mean_return = np.mean(returns, axis=0)\n",
    "    normalized_returns = returns - mean_return\n",
    "    \n",
    "    # Initializing the covariance matrix\n",
    "    n_timesteps, n_stocks = normalized_returns.shape\n",
    "    cov = np.cov(returns, rowvar=False)\n",
    "    \n",
    "    # Updating the covariance matrix\n",
    "    for t in range(1, n_timesteps):\n",
    "        cov = lambda_ * cov + (1 - lambda_) * np.outer(normalized_returns[t], normalized_returns[t])\n",
    "    return cov"
   ]
  },
  {
   "cell_type": "markdown",
   "id": "c94f7dc6",
   "metadata": {},
   "source": [
    "#### Perform PCA and calculate the cumulative variance explained by given eigenvalue for λ chosen"
   ]
  },
  {
   "cell_type": "code",
   "execution_count": 4,
   "id": "62ef21e6",
   "metadata": {},
   "outputs": [],
   "source": [
    "def pca_cum_var(cov_matrix, n_components):\n",
    "    \"\"\"\n",
    "    Perform PCA on the input data set and calculat the cumulative variance explained by a given components number.\n",
    "    \n",
    "    Parameters:\n",
    "    - data: input data set, a numpy array with shape (n_samples, n_features)\n",
    "    - λ: components number\n",
    "    \n",
    "    Returns:\n",
    "    The cumulative variance explained by each eigenvalue for a given n.\n",
    "    \"\"\"\n",
    "    # Compute the eigenvectors and eigenvalues\n",
    "    eigenvalues, eigenvectors = np.linalg.eig(cov_matrix)\n",
    "    \n",
    "    # Only consider eigenvalues greater than 0\n",
    "    idx = eigenvalues > 1e-8\n",
    "    eigenvalues = eigenvalues[idx]\n",
    "    eigenvectors = eigenvectors[:, idx]\n",
    "    \n",
    "    # Sort the eigenvalues in descending order\n",
    "    idx = np.argsort(eigenvalues)[::-1]\n",
    "    eigenvalues = eigenvalues[idx]\n",
    "    eigenvectors = eigenvectors[:, idx]\n",
    "    \n",
    "    # Calculate the cumulative variance explained by each eigenvalue\n",
    "    cumulative_variance = (np.cumsum(eigenvalues[:n_components]) / np.sum(eigenvalues))[-1]\n",
    "    \n",
    "    return cumulative_variance"
   ]
  },
  {
   "cell_type": "markdown",
   "id": "a893f8af",
   "metadata": {},
   "source": [
    "#### Plot the cumulative variance explained by each eigenvalue for each λ chosen"
   ]
  },
  {
   "cell_type": "code",
   "execution_count": 5,
   "id": "e421ba78",
   "metadata": {},
   "outputs": [
    {
     "data": {
      "image/png": "[encoded data removed]",
      "text/plain": [
       "<Figure size 432x288 with 1 Axes>"
      ]
     },
     "metadata": {
      "needs_background": "light"
     },
     "output_type": "display_data"
    }
   ],
   "source": [
    "lambda_values = [0.99, 0.97, 0.9, 0.8, 0.7, 0.6]\n",
    "cumulative_variances = []\n",
    "\n",
    "for lambda_ in lambda_values:\n",
    "    cov = exp_weighted_cov(df, lambda_)\n",
    "    cumulative_variance_for_lambda = []\n",
    "    for n in range(1,101):\n",
    "        cumulative_variance_for_lambda.append(pca_cum_var(cov, n))\n",
    "    cumulative_variances.append(cumulative_variance_for_lambda)\n",
    "    \n",
    "# Plot the cumulative variance explained\n",
    "plt.figure()\n",
    "for cumulative_variance in cumulative_variances:\n",
    "    plt.plot(cumulative_variance)\n",
    "plt.xlabel(\"Number of Principal Components\")\n",
    "plt.ylabel(\"Cumulative Variance Explained\")\n",
    "plt.title(\"Cumulative Variance Explained vs. Number of Principal Components\")\n",
    "plt.legend(lambda_values)\n",
    "plt.savefig('PCA for lambda.png', dpi =300)\n",
    "plt.show()"
   ]
  },
  {
   "cell_type": "markdown",
   "id": "e158cdad",
   "metadata": {},
   "source": [
    "## Problem 2 - Decomposition for  PSD"
   ]
  },
  {
   "cell_type": "markdown",
   "id": "58f000bc",
   "metadata": {},
   "source": [
    "Copy the chol_psd(), and near_psd() functions from the course repository – implement in your programming language of choice. These are core functions you will need throughout the remainder of the class.\n",
    "\n",
    "Implement Higham’s 2002 nearest psd correlation function.\n",
    "\n",
    "Generate a non-psd correlation matrix that is 500x500.\n",
    "\n",
    "Use near_psd() and Higham’s method to fix the matrix. Confirm the matrix is now PSD.\n",
    "\n",
    "Compare the results of both using the Frobenius Norm. Compare the run time between the two. How does the run time of each function compare as N increases?\n",
    "\n",
    "Based on the above, discuss the pros and cons of each method and when you would use each. There is no wrong answer here, I want you to think through this and tell me what you think."
   ]
  },
  {
   "cell_type": "markdown",
   "id": "51d5de3d",
   "metadata": {},
   "source": [
    "#### Cholesky Factorization "
   ]
  },
  {
   "cell_type": "code",
   "execution_count": 6,
   "id": "73452cb4",
   "metadata": {},
   "outputs": [],
   "source": [
    "def chol_psd(cov_matrix):\n",
    "    \"\"\"\n",
    "    Perform Cholesky decomposition on the input matrix `covariance`.\n",
    "    \n",
    "    Parameters:\n",
    "    - cov_matrix: input matrix, a numpy array with shape (n_samples, n_samples)\n",
    "    \n",
    "    Returns:\n",
    "    The Cholesky decomposition of the input matrix `covariance`.\n",
    "    \"\"\"\n",
    "    n = cov_matrix.shape[0]\n",
    "    root = np.zeros_like(cov_matrix)\n",
    "    for j in range(n):\n",
    "        s = 0.0\n",
    "        if j > 0:\n",
    "            # calculate dot product of the preceeding row values\n",
    "            s = np.dot(root[j, :j], root[j, :j])\n",
    "        temp = cov_matrix[j, j] - s\n",
    "        if 0 >= temp >= -1e-8:\n",
    "            temp = 0.0\n",
    "        root[j, j] = np.sqrt(temp)\n",
    "        if root[j, j] == 0.0:\n",
    "            # set the column to 0 if we have an eigenvalue of 0\n",
    "            root[j + 1:, j] = 0.0\n",
    "        else:\n",
    "            ir = 1.0 / root[j, j]\n",
    "            for i in range(j + 1, n):\n",
    "                s = np.dot(root[i, :j], root[j, :j])\n",
    "                root[i, j] = (cov_matrix[i, j] - s) * ir\n",
    "    return root"
   ]
  },
  {
   "cell_type": "markdown",
   "id": "67e014f0",
   "metadata": {},
   "source": [
    "#### Dealing with Non-PSD Matrices - Rebonato and Jackel"
   ]
  },
  {
   "cell_type": "code",
   "execution_count": 7,
   "id": "088a086b",
   "metadata": {},
   "outputs": [],
   "source": [
    "def near_psd(matrix, epsilon=0.0):\n",
    "    \"\"\"\n",
    "    Calculates a near positive semi-definite (PSD) matrix from a given non-PSD matrix.\n",
    "\n",
    "    Parameters:\n",
    "    - matrix: The input matrix, a 2-dimensional numpy array\n",
    "    - epsilon: A small non-negative value used to ensure that the resulting matrix is PSD, default value is 0.0\n",
    "\n",
    "    Returns:\n",
    "    The output of this function is a 2-dimensional numpy array that represents a near PSD matrix. \n",
    "    \"\"\"\n",
    "    n = matrix.shape[0]\n",
    "\n",
    "    invSD = None\n",
    "    out = matrix.copy()\n",
    "\n",
    "    # calculate the correlation matrix if we got a covariance\n",
    "    if np.count_nonzero(np.diag(out) == 1.0) != n:\n",
    "        invSD = np.diag(1 / np.sqrt(np.diag(out)))\n",
    "        out = np.matmul(np.matmul(invSD, out), invSD)\n",
    "\n",
    "    # SVD, update the eigen value and scale\n",
    "    vals, vecs = np.linalg.eigh(out)\n",
    "    vals = np.maximum(vals, epsilon)\n",
    "    T = np.reciprocal(np.matmul(np.square(vecs), vals))\n",
    "    T = np.diag(np.sqrt(T))\n",
    "    l = np.diag(np.sqrt(vals))\n",
    "    B = np.matmul(np.matmul(T, vecs), l)\n",
    "    out = np.matmul(B, np.transpose(B))\n",
    "\n",
    "    # Add back the variance\n",
    "    if invSD is not None:\n",
    "        invSD = np.diag(1 / np.diag(invSD))\n",
    "        out = np.matmul(np.matmul(invSD, out), invSD)\n",
    "\n",
    "    return out"
   ]
  },
  {
   "cell_type": "markdown",
   "id": "42c14de8",
   "metadata": {},
   "source": [
    "#### Dealing with Non-PSD Matrices - Higham"
   ]
  },
  {
   "cell_type": "code",
   "execution_count": 8,
   "id": "2ffac7c1",
   "metadata": {},
   "outputs": [],
   "source": [
    "def Pu(matrix):\n",
    "    \"\"\"The first projection for Higham method with the assumption that weight martrix is diagonal.\"\"\"\n",
    "    result = matrix.copy()\n",
    "    for i in range(len(matrix)):\n",
    "        for j in range(len(matrix[0])):\n",
    "            if i==j:\n",
    "                result[i][i]=1\n",
    "    return result\n",
    "\n",
    "def Ps(matrix, weight):\n",
    "    \"\"\"The second projection for Higham method.\"\"\"\n",
    "    matrix = np.sqrt(weight)@ matrix @np.sqrt(weight)\n",
    "    vals, vecs = np.linalg.eigh(matrix)\n",
    "    vals = np.array([max(i,0) for i in vals])\n",
    "    result = np.sqrt(weight)@ vecs @ np.diagflat(vals) @ vecs.T @ np.sqrt(weight)\n",
    "    return result\n",
    "\n",
    "def Frobenius_Norm(matrix_1, matrix_2):\n",
    "    distance = matrix_1 - matrix_2\n",
    "    result = 0\n",
    "    for i in range(len(distance)):\n",
    "        for j in range(len(distance)):\n",
    "            result += distance[i][j]**2\n",
    "    return result\n",
    "\n",
    "def Higham_psd(matrix, weight = None, epsilon = 1e-9, max_iter = 1000, tolerance = 1e-8):\n",
    "    \"\"\"\n",
    "    Calculates a near positive semi-definite (PSD) matrix from a given non-PSD matrix.\n",
    "\n",
    "    Parameters:\n",
    "    - matrix: The input covariance matrix, a 2-dimensional numpy array\n",
    "    - weight: Assume weight is a diagonal matrix, if unweighted, set 𝑊 = 𝐼\n",
    "    - epsilon: Used to check the smallest eigenvalue from the result\n",
    "    - max_iter: Restriction on the maximum iteration loops\n",
    "    - tolerance: A small non-negative value used to restrict the distance for the original matrix, default value is 1e-8\n",
    "\n",
    "    Returns:\n",
    "    The output of this function is a 2-dimensional numpy array that represents a nearest PSD matrix. \n",
    "    \"\"\"\n",
    "    if weight is None:\n",
    "        weight = np.identity(len(matrix))\n",
    "        \n",
    "    norml = np.inf\n",
    "    Yk = matrix\n",
    "    Delta_S = np.zeros_like(Yk)\n",
    "    \n",
    "    invSD = None\n",
    "    if np.count_nonzero(np.diag(Yk) == 1.0) != matrix.shape[0]:\n",
    "        invSD = np.diag(1 / np.sqrt(np.diag(Yk)))\n",
    "        Yk = np.matmul(np.matmul(invSD, Yk), invSD)\n",
    "    \n",
    "    for i in range(max_iter):\n",
    "        Rk = Yk - Delta_S\n",
    "        Xk = Ps(Rk, weight)\n",
    "        Delta_S = Xk - Rk\n",
    "        Yk = Pu(Xk)\n",
    "        norm = Frobenius_Norm(Yk, matrix)\n",
    "        minEigVal = np.real(np.linalg.eigvals(Yk)).min()\n",
    "        if abs(norm - norml) < tolerance and minEigVal > -epsilon:\n",
    "            break\n",
    "        else:\n",
    "            norml = norm\n",
    "    \n",
    "    if invSD is not None:\n",
    "        invSD = np.diag(1 / np.diag(invSD))\n",
    "        Yk = np.matmul(np.matmul(invSD, Yk), invSD)\n",
    "    return Yk"
   ]
  },
  {
   "cell_type": "markdown",
   "id": "5d63108c",
   "metadata": {},
   "source": [
    "#### Comparison on near_psd and Higham_psd"
   ]
  },
  {
   "cell_type": "markdown",
   "id": "65ae7c3e",
   "metadata": {},
   "source": [
    "Generate a non-psd correlation matrix that is 500x500"
   ]
  },
  {
   "cell_type": "code",
   "execution_count": 9,
   "id": "fe6fe6d8",
   "metadata": {},
   "outputs": [],
   "source": [
    "n = 500\n",
    "sigma = np.full((n,n),0.9)\n",
    "for i in range(n):\n",
    "    sigma[i,i]=1.0\n",
    "sigma[0,1] = 0.7357\n",
    "sigma[1,0] = 0.7357"
   ]
  },
  {
   "cell_type": "markdown",
   "id": "9c650dda",
   "metadata": {},
   "source": [
    "Fix the matrix and Confirm the matrix is now PSD or not"
   ]
  },
  {
   "cell_type": "code",
   "execution_count": 10,
   "id": "c611aba5",
   "metadata": {},
   "outputs": [],
   "source": [
    "def is_psd(matrix):\n",
    "    \"\"\"For a given matrix, check if the matrix is psd or not.\"\"\"\n",
    "    eigenvalues = np.linalg.eigh(matrix)[0]\n",
    "    return np.all(eigenvalues >= -1e-8)"
   ]
  },
  {
   "cell_type": "code",
   "execution_count": 11,
   "id": "318dba5c",
   "metadata": {},
   "outputs": [
    {
     "name": "stdout",
     "output_type": "stream",
     "text": [
      "Original matrix:  False\n",
      "Matrix fixed with near_psd():  True\n",
      "Matrix fixed with Higham_psd():  True\n"
     ]
    }
   ],
   "source": [
    "print(\"Original matrix: \", is_psd(sigma))\n",
    "print(\"Matrix fixed with near_psd(): \", is_psd(near_psd(sigma)))\n",
    "print(\"Matrix fixed with Higham_psd(): \", is_psd(Higham_psd(sigma)))"
   ]
  },
  {
   "cell_type": "markdown",
   "id": "8ba3c31c",
   "metadata": {},
   "source": [
    "Compare the results of both using the Frobenius Norm"
   ]
  },
  {
   "cell_type": "code",
   "execution_count": 12,
   "id": "550f26ef",
   "metadata": {},
   "outputs": [
    {
     "data": {
      "image/png": "[encoded data removed]",
      "text/plain": [
       "<Figure size 432x288 with 1 Axes>"
      ]
     },
     "metadata": {
      "needs_background": "light"
     },
     "output_type": "display_data"
    }
   ],
   "source": [
    "n_range = np.arange(20, 501, 50)\n",
    "frobenius_norms_near = []\n",
    "frobenius_norms_higham = []\n",
    "for n_current in n_range:\n",
    "    sigma_current = sigma[:n_current, :n_current]\n",
    "    sigma_fixed_near = near_psd(sigma_current)\n",
    "    frobenius_norm_near = Frobenius_Norm(sigma_current, sigma_fixed_near)\n",
    "    frobenius_norms_near.append(frobenius_norm_near)\n",
    "    \n",
    "    sigma_fixed_higham = Higham_psd(sigma_current)\n",
    "    frobenius_norm_higham = Frobenius_Norm(sigma_current, sigma_fixed_higham)\n",
    "    frobenius_norms_higham.append(frobenius_norm_higham)\n",
    "\n",
    "\n",
    "plt.plot(n_range, frobenius_norms_near, label='near_psd')\n",
    "plt.plot(n_range, frobenius_norms_higham, label='Higham_psd')\n",
    "plt.xlabel('N')\n",
    "plt.ylabel('Frobenius norm')\n",
    "plt.title('Increase in Frobenius norm with N')\n",
    "plt.legend()\n",
    "plt.savefig('Frobenius norm comparison.png', dpi =300)\n",
    "plt.show()"
   ]
  },
  {
   "cell_type": "markdown",
   "id": "64d5e01b",
   "metadata": {},
   "source": [
    "Compare the run time between the two"
   ]
  },
  {
   "cell_type": "code",
   "execution_count": 13,
   "id": "c47d57c7",
   "metadata": {},
   "outputs": [
    {
     "data": {
      "image/png": "[encoded data removed]",
      "text/plain": [
       "<Figure size 432x288 with 1 Axes>"
      ]
     },
     "metadata": {
      "needs_background": "light"
     },
     "output_type": "display_data"
    }
   ],
   "source": [
    "n_range = np.arange(20, 501, 50)\n",
    "time_near_psd = []\n",
    "time_higham_psd = []\n",
    "for n_current in n_range:\n",
    "    sigma_current = sigma[:n_current, :n_current]\n",
    "    \n",
    "    start_time = time.time()\n",
    "    sigma_fixed_near = near_psd(sigma_current)\n",
    "    time_near = time.time() - start_time\n",
    "    time_near_psd.append(time_near)\n",
    "    \n",
    "    start_time = time.time()\n",
    "    sigma_fixed_higham = Higham_psd(sigma_current)\n",
    "    time_higham = time.time() - start_time\n",
    "    time_higham_psd.append(time_higham)\n",
    "\n",
    "plt.plot(n_range, time_near_psd, label='near_psd')\n",
    "plt.plot(n_range, time_higham_psd, label='Higham_psd')\n",
    "plt.xlabel('N')\n",
    "plt.ylabel('Running time (s)')\n",
    "plt.title('Running time comparison for near_psd() and Higham_psd()')\n",
    "plt.legend()\n",
    "plt.savefig('Running time comparison.png', dpi =300)\n",
    "plt.show()"
   ]
  },
  {
   "cell_type": "markdown",
   "id": "c08b5720",
   "metadata": {},
   "source": [
    "## Problem 3 - Simulation Practice "
   ]
  },
  {
   "cell_type": "markdown",
   "id": "e6a09b93",
   "metadata": {},
   "source": [
    "Using DailyReturn.csv.\n",
    "\n",
    "Implement a multivariate normal simulation that allows for simulation directly from a covariance matrix or using PCA with an optional parameter for % variance explained. If you have a library that can do these, you still need to implement it yourself for this homework and prove that it functions as expected.\n",
    "\n",
    "Generate a correlation matrix and variance vector 2 ways:\n",
    "1. Standard Pearson correlation/variance (you do not need to reimplement the cor() and\n",
    "var() functions).\n",
    "2. Exponentially weighted λ = 0. 97\n",
    "\n",
    "Combine these to form 4 different covariance matrices. (Pearson correlation + var()), Pearson correlation + EW variance, etc.)\n",
    "\n",
    "\n",
    "Simulate 25,000 draws from each covariance matrix using:\n",
    "1. Direct Simulation\n",
    "2. PCA with 100% explained.\n",
    "3. PCA with 75% explained.\n",
    "4. PCA with 50% explained.\n",
    "\n",
    "Calculate the covariance of the simulated values. Compare the simulated covariance to it’s input matrix using the Frobenius Norm (L2 norm, sum of the square of the difference between the matrices). Compare the run times for each simulation.\n",
    "\n",
    "What can we say about the trade offs between time to run and accuracy."
   ]
  },
  {
   "cell_type": "markdown",
   "id": "f9071828",
   "metadata": {},
   "source": [
    "####  Implement multivariate normal simulation"
   ]
  },
  {
   "cell_type": "code",
   "execution_count": 14,
   "id": "9cdccab7",
   "metadata": {},
   "outputs": [],
   "source": [
    "def multivariate_normal_simulation(covariance_matrix, n_samples, method='direct', mean = 0, explained_variance=1.0):\n",
    "    \"\"\"\n",
    "    A function to simulate multivariate normal distributions with different methods.\n",
    "    \n",
    "    Parameters:\n",
    "    - covariance_matrix (np.array): The covariance matrix for the multivariate normal distribution\n",
    "    - n_samples (int): The number of samples to generate\n",
    "    - method (str, optional): The method to use for simulation, either 'direct' or 'pca', default 'direct'\n",
    "         'direct': simulate directly from the covariance matrix.\n",
    "         'pca': simulate using principal component analysis (PCA).\n",
    "    - explained_variance (float, optional): The percentage of explained variance to keep when using PCA, default 1.0\n",
    "    \n",
    "    Returns:\n",
    "     np.array: An array with shape (covariance_matrix.shape[0], n_samples) with the simulated samples.\n",
    "    \"\"\"\n",
    "    \n",
    "    # If the method is 'direct', simulate directly from the covariance matrix\n",
    "    if method == 'direct':\n",
    "        \n",
    "        L = chol_psd(covariance_matrix)\n",
    "        normal_samples = np.random.normal(size=(covariance_matrix.shape[0], n_samples))\n",
    "        \n",
    "        samples = np.transpose(np.dot(L, normal_samples) + mean)\n",
    "        \n",
    "        return samples\n",
    "    \n",
    "    # If the method is 'pca', simulate using PCA\n",
    "    elif method == 'pca':\n",
    "        eigenvalues, eigenvectors = np.linalg.eigh(covariance_matrix)\n",
    "        \n",
    "        # Only consider eigenvalues greater than 0\n",
    "        idx = eigenvalues > 1e-8\n",
    "        eigenvalues = eigenvalues[idx]\n",
    "        eigenvectors = eigenvectors[:, idx]\n",
    "        \n",
    "        # Sort the eigenvalues in descending order\n",
    "        idx = np.argsort(eigenvalues)[::-1]\n",
    "        eigenvalues = eigenvalues[idx]\n",
    "        eigenvectors = eigenvectors[:, idx]\n",
    "        \n",
    "        # Update the explained_variance incase the explained_variance is higher than the cumulative sum of the eigenvalue\n",
    "        if explained_variance == 1.0:\n",
    "            explained_variance = (np.cumsum(eigenvalues)/np.sum(eigenvalues))[-1]\n",
    "        \n",
    "        # Determine the number of components to keep based on the explained variance ratio\n",
    "        n_components = np.where((np.cumsum(eigenvalues)/np.sum(eigenvalues))>= explained_variance)[0][0] + 1\n",
    "        eigenvectors = eigenvectors[:,:n_components]\n",
    "        eigenvalues = eigenvalues[:n_components]\n",
    "\n",
    "        normal_samples = np.random.normal(size=(n_components, n_samples))\n",
    "        \n",
    "        # Simulate the multivariate normal samples by multiplying the eigenvectors with the normal samples\n",
    "        B = np.dot(eigenvectors, np.diag(np.sqrt(eigenvalues)))\n",
    "        samples = np.transpose(np.dot(B, normal_samples))\n",
    "        \n",
    "        return samples"
   ]
  },
  {
   "cell_type": "markdown",
   "id": "60df97ac",
   "metadata": {},
   "source": [
    "#### Four ways to generate the covariance matrix"
   ]
  },
  {
   "cell_type": "code",
   "execution_count": 15,
   "id": "e6a2ec63",
   "metadata": {},
   "outputs": [],
   "source": [
    "def exp_weighted_correlation_pearson_var(returns, lambda_=0.97):\n",
    "    \"\"\"\n",
    "    Calculate exponentially weighted correlation matrix with Pearson variance.\n",
    "    \n",
    "    Parameters:\n",
    "    - returns: input data set, a pandas DataFrame\n",
    "    - lambda_: fraction for update the covariance matrix, default 0.97\n",
    "    \n",
    "    Returns:\n",
    "    cov: exponentially weighted correlation matrix with Pearson variance, a numpy array\n",
    "    \"\"\"\n",
    "    cov = exp_weighted_cov(returns, lambda_)\n",
    "        \n",
    "    # Calculate the correlation matrix\n",
    "    corr = np.diag(np.reciprocal(np.sqrt(np.diag(cov)))) @ cov @ np.diag(np.reciprocal(np.sqrt(np.diag(cov)))).T\n",
    "    \n",
    "    # Calculate the variance\n",
    "    var = np.var(returns)\n",
    "    std_dev = np.sqrt(var)\n",
    "    \n",
    "    # Multiply the correlation matrix with the variance\n",
    "    cov = np.outer(std_dev, std_dev) * corr\n",
    "    return cov\n"
   ]
  },
  {
   "cell_type": "code",
   "execution_count": 16,
   "id": "e00678d3",
   "metadata": {},
   "outputs": [],
   "source": [
    "def pearson_correlation_exp_weighted_var(returns, lambda_=0.97):\n",
    "    \"\"\"\n",
    "    Calculate Pearson correlation matrix with exponentially weighted variance.\n",
    "    \n",
    "    Parameters:\n",
    "    - returns: input data set, a pandas DataFrame\n",
    "    - lambda_: fraction for update the covariance matrix, default 0.97\n",
    "    \n",
    "    Returns:\n",
    "    cov: Pearson correlation matrix with exponentially weighted variance, a numpy array\n",
    "    \"\"\"\n",
    " \n",
    "    cov = exp_weighted_cov(returns, lambda_)\n",
    "        \n",
    "    # Calculate the standard deviation\n",
    "    std_dev = np.sqrt(np.diag(cov))\n",
    "    \n",
    "    # Calculate the correlation matrix\n",
    "    corr = np.corrcoef(returns.T)\n",
    "    \n",
    "    # Multiply the correlation matrix with the variance\n",
    "    cov = np.outer(std_dev, std_dev) * corr\n",
    "    return cov\n"
   ]
  },
  {
   "cell_type": "markdown",
   "id": "d6d07ea0",
   "metadata": {},
   "source": [
    "#### Run the simulation and do the comparison"
   ]
  },
  {
   "cell_type": "code",
   "execution_count": 17,
   "id": "c873acab",
   "metadata": {},
   "outputs": [],
   "source": [
    "def compare_covariance_matrices(covariance_matrix, method, explained_variance=1.0):\n",
    "    n_samples = 25000\n",
    "    \n",
    "    start_time = time.time()\n",
    "    samples = multivariate_normal_simulation(covariance_matrix, n_samples, method=method, explained_variance=explained_variance)\n",
    "    elapsed_time = time.time() - start_time\n",
    "    \n",
    "    simulated_covariance = np.cov(samples, rowvar=False)\n",
    "    error = Frobenius_Norm(simulated_covariance, covariance_matrix)\n",
    "    \n",
    "    return elapsed_time, error\n"
   ]
  },
  {
   "cell_type": "code",
   "execution_count": 18,
   "id": "911ed47d",
   "metadata": {},
   "outputs": [],
   "source": [
    "def simulation_and_plotting(covariance_matrix, title, ax):\n",
    "    np.random.seed(0)\n",
    "    explained_variances = [1.0, 0.75, 0.5]\n",
    "    \n",
    "    elapsed_times = []\n",
    "    errors = []\n",
    "    labels = []\n",
    "    \n",
    "    elapsed_time, error = compare_covariance_matrices(covariance_matrix, 'direct')\n",
    "    elapsed_times.append(elapsed_time)\n",
    "    errors.append(error)\n",
    "    labels.append(\"direct\")\n",
    "    \n",
    "    for explained_variance in explained_variances:\n",
    "        elapsed_time, error = compare_covariance_matrices(covariance_matrix, 'pca', explained_variance)\n",
    "        elapsed_times.append(elapsed_time)\n",
    "        errors.append(error)\n",
    "        labels.append(\"pca: {}\".format(explained_variance))\n",
    "            \n",
    "    ax.plot(elapsed_times, errors, 'o-')\n",
    "    \n",
    "    for i, label in enumerate(labels):\n",
    "        ax.annotate(label, (elapsed_times[i], errors[i]))\n",
    "        \n",
    "    ax.set_xlabel('Elapsed Time (s)')\n",
    "    ax.set_ylabel('Frobenius Norm')\n",
    "    ax.set_title('Trade-off for: {}'.format(title))\n",
    "    "
   ]
  },
  {
   "cell_type": "code",
   "execution_count": 20,
   "id": "c9b470fc",
   "metadata": {},
   "outputs": [
    {
     "data": {
      "image/png": "[encoded data removed]",
      "text/plain": [
       "<Figure size 864x864 with 4 Axes>"
      ]
     },
     "metadata": {
      "needs_background": "light"
     },
     "output_type": "display_data"
    }
   ],
   "source": [
    "ew_cov = exp_weighted_cov(df)\n",
    "pearson_cov = np.cov(df, rowvar=False)\n",
    "ew_corr_pearson_var = exp_weighted_correlation_pearson_var(df)\n",
    "pearson_corr_ew_var = pearson_correlation_exp_weighted_var(df)\n",
    "\n",
    "\n",
    "matrixes = [ew_cov, pearson_cov, ew_corr_pearson_var, pearson_corr_ew_var]\n",
    "matrixes_name = ['ew_cov', 'pearson_cov', 'ew_corr_pearson_var', 'pearson_corr_ew_var']\n",
    "\n",
    "fig, axs = plt.subplots(2, 2, figsize=(12, 12))\n",
    "axs = axs.flatten()\n",
    "\n",
    "for matrix, matrix_name, ax in zip(matrixes, matrixes_name, axs):\n",
    "    simulation_and_plotting(matrix, matrix_name, ax)\n",
    "\n",
    "plt.tight_layout()\n",
    "plt.savefig('Trade-off between Time and Accuracy.png', dpi =300)\n",
    "plt.show()"
   ]
  },
  {
   "cell_type": "code",
   "execution_count": null,
   "id": "fd503555",
   "metadata": {},
   "outputs": [],
   "source": []
  }
 ],
 "metadata": {
  "kernelspec": {
   "display_name": "base",
   "language": "python",
   "name": "python3"
  },
  "language_info": {
   "codemirror_mode": {
    "name": "ipython",
    "version": 3
   },
   "file_extension": ".py",
   "mimetype": "text/x-python",
   "name": "python",
   "nbconvert_exporter": "python",
   "pygments_lexer": "ipython3",
   "version": "3.9.12"
  },
  "vscode": {
   "interpreter": {
    "hash": "40d3a090f54c6569ab1632332b64b2c03c39dcf918b08424e98f38b5ae0af88f"
   }
  }
 },
 "nbformat": 4,
 "nbformat_minor": 5
}
