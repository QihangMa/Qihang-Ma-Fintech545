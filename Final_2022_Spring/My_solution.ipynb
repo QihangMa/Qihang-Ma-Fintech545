{
 "cells": [
  {
   "attachments": {},
   "cell_type": "markdown",
   "metadata": {},
   "source": [
    "# Final 2022 Spring\n",
    "\n",
    "###### Created by Qihang Ma -- 2023.04.27"
   ]
  },
  {
   "cell_type": "code",
   "execution_count": 1,
   "metadata": {},
   "outputs": [],
   "source": [
    "import warnings\n",
    "warnings.filterwarnings(\"ignore\")\n",
    "from RiskLib import calculation, cov_matrix, linear_regression, optimal_portfolio, risk_parity, risk_attribution, Option, simulation, VaR\n",
    "import pandas as pd\n",
    "import numpy as np\n",
    "import datetime as dt\n",
    "from scipy.optimize import fsolve, minimize\n",
    "import statsmodels.api as sm\n",
    "from scipy.stats import t, norm, kurtosis, skew\n",
    "import matplotlib.pyplot as plt\n"
   ]
  },
  {
   "attachments": {},
   "cell_type": "markdown",
   "metadata": {},
   "source": [
    "## Problem 1\n",
    "\n",
    "Why do we need risk management?\n",
    "\n",
    "1. Minimize Losses: Risk management allows us to identify potential risks and take proactive measures to minimize losses in the event of an incident or unexpected occurrence.\n",
    "\n",
    "2. Compliance: Various industries have regulatory and compliance requirements that necessitate risk management to ensure legal compliance and prevent potential penalties.\n",
    "\n",
    "3. Protects reputation: Effective risk management can help organizations safeguard their reputation by identifying and mitigating risks before they become crises.\n",
    "\n",
    "4. Business Continuity: Risk management ensures that organizations can continue to operate during a crisis, reducing the impact of negative events on the organization's operations and stakeholders.\n",
    "\n",
    "5. Prioritization: Risk management allows organizations to prioritize resources and make informed decisions by considering potential risks and rewards.\n",
    "\n",
    "6. Improved Decision Making: Risk management encourages organizations to gather and analyze data to inform their decision-making process, leading to better and more informed decisions.\n",
    "\n",
    "- In summary, risk management is essential to identify and manage potential risks and reduce their negative impact on organizations, individuals, and society."
   ]
  },
  {
   "attachments": {},
   "cell_type": "markdown",
   "metadata": {},
   "source": [
    "## Problem 2\n",
    "\n",
    "Use data in question2.csv.\n",
    "\n",
    "- a. What are the first 4 moments of this data?\n",
    "\n",
    "- b. If this represented the Profit and Loss from an investment, what would you say about its risk and reward?"
   ]
  },
  {
   "cell_type": "code",
   "execution_count": 2,
   "metadata": {},
   "outputs": [],
   "source": [
    "pnl = pd.read_csv('question2.csv')"
   ]
  },
  {
   "cell_type": "code",
   "execution_count": 3,
   "metadata": {},
   "outputs": [
    {
     "name": "stdout",
     "output_type": "stream",
     "text": [
      "Mean: 0.6722.\n",
      "Standard Deviation: 10.5493.\n",
      "Variance: 111.2868.\n",
      "Skewness: -1.6289.\n",
      "kurtosis: 2.2282.\n",
      "\n",
      "VaR: 21.9104\n",
      "ES: 28.8098\n"
     ]
    }
   ],
   "source": [
    "print(\"Mean: {:.4f}.\".format(np.mean(pnl.values)))\n",
    "print(\"Standard Deviation: {:.4f}.\".format(np.std(pnl.values)))\n",
    "print(\"Variance: {:.4f}.\".format(np.var(pnl.values)))\n",
    "print(\"Skewness: {:.4f}.\".format(skew(pnl)[0]))\n",
    "print(\"kurtosis: {:.4f}.\\n\".format(kurtosis(pnl)[0]))\n",
    "\n",
    "\n",
    "print(\"VaR: {:.4f}\".format(VaR.calculate_var(pnl)))\n",
    "print(\"ES: {:.4f}\".format(VaR.calculate_ES(pnl.values.T[0])))\n"
   ]
  },
  {
   "attachments": {},
   "cell_type": "markdown",
   "metadata": {},
   "source": [
    "Negative Skew and excess kurtosis make this a risky investment even if it has a positive expected return.\n",
    "\n",
    "This is seen with the large VaR and ES numbers."
   ]
  },
  {
   "attachments": {},
   "cell_type": "markdown",
   "metadata": {},
   "source": [
    "## Problem 3\n",
    "\n",
    "Use data in question3.csv.\n",
    "\n",
    "- a. This data has missing values. Calculate the pairwise correlation matrix.\n",
    "\n",
    "- b. Is this matrix PSD?\n",
    "    \n",
    "- c. If the matrix is not PSD, use Higham 2002 to calculate the nearest PSD matrix."
   ]
  },
  {
   "cell_type": "code",
   "execution_count": 4,
   "metadata": {},
   "outputs": [
    {
     "data": {
      "text/html": [
       "<div>\n",
       "<style scoped>\n",
       "    .dataframe tbody tr th:only-of-type {\n",
       "        vertical-align: middle;\n",
       "    }\n",
       "\n",
       "    .dataframe tbody tr th {\n",
       "        vertical-align: top;\n",
       "    }\n",
       "\n",
       "    .dataframe thead th {\n",
       "        text-align: right;\n",
       "    }\n",
       "</style>\n",
       "<table border=\"1\" class=\"dataframe\">\n",
       "  <thead>\n",
       "    <tr style=\"text-align: right;\">\n",
       "      <th></th>\n",
       "      <th>0</th>\n",
       "      <th>1</th>\n",
       "      <th>2</th>\n",
       "    </tr>\n",
       "  </thead>\n",
       "  <tbody>\n",
       "    <tr>\n",
       "      <th>0</th>\n",
       "      <td>1.00000</td>\n",
       "      <td>-0.620160</td>\n",
       "      <td>0.829550</td>\n",
       "    </tr>\n",
       "    <tr>\n",
       "      <th>1</th>\n",
       "      <td>-0.62016</td>\n",
       "      <td>1.000000</td>\n",
       "      <td>-0.989449</td>\n",
       "    </tr>\n",
       "    <tr>\n",
       "      <th>2</th>\n",
       "      <td>0.82955</td>\n",
       "      <td>-0.989449</td>\n",
       "      <td>1.000000</td>\n",
       "    </tr>\n",
       "  </tbody>\n",
       "</table>\n",
       "</div>"
      ],
      "text/plain": [
       "         0         1         2\n",
       "0  1.00000 -0.620160  0.829550\n",
       "1 -0.62016  1.000000 -0.989449\n",
       "2  0.82955 -0.989449  1.000000"
      ]
     },
     "execution_count": 4,
     "metadata": {},
     "output_type": "execute_result"
    }
   ],
   "source": [
    "missing_data = pd.read_csv('question3.csv')\n",
    "pairwise_corr = cov_matrix.missing_cov(missing_data.values, False)\n",
    "pd.DataFrame(pairwise_corr)"
   ]
  },
  {
   "cell_type": "code",
   "execution_count": 5,
   "metadata": {},
   "outputs": [
    {
     "data": {
      "text/plain": [
       "False"
      ]
     },
     "execution_count": 5,
     "metadata": {},
     "output_type": "execute_result"
    }
   ],
   "source": [
    "cov_matrix.is_psd(pairwise_corr)"
   ]
  },
  {
   "cell_type": "code",
   "execution_count": 6,
   "metadata": {},
   "outputs": [
    {
     "data": {
      "text/html": [
       "<div>\n",
       "<style scoped>\n",
       "    .dataframe tbody tr th:only-of-type {\n",
       "        vertical-align: middle;\n",
       "    }\n",
       "\n",
       "    .dataframe tbody tr th {\n",
       "        vertical-align: top;\n",
       "    }\n",
       "\n",
       "    .dataframe thead th {\n",
       "        text-align: right;\n",
       "    }\n",
       "</style>\n",
       "<table border=\"1\" class=\"dataframe\">\n",
       "  <thead>\n",
       "    <tr style=\"text-align: right;\">\n",
       "      <th></th>\n",
       "      <th>0</th>\n",
       "      <th>1</th>\n",
       "      <th>2</th>\n",
       "    </tr>\n",
       "  </thead>\n",
       "  <tbody>\n",
       "    <tr>\n",
       "      <th>0</th>\n",
       "      <td>1.000000</td>\n",
       "      <td>-0.629592</td>\n",
       "      <td>0.816847</td>\n",
       "    </tr>\n",
       "    <tr>\n",
       "      <th>1</th>\n",
       "      <td>-0.629592</td>\n",
       "      <td>1.000000</td>\n",
       "      <td>-0.962454</td>\n",
       "    </tr>\n",
       "    <tr>\n",
       "      <th>2</th>\n",
       "      <td>0.816847</td>\n",
       "      <td>-0.962454</td>\n",
       "      <td>1.000000</td>\n",
       "    </tr>\n",
       "  </tbody>\n",
       "</table>\n",
       "</div>"
      ],
      "text/plain": [
       "          0         1         2\n",
       "0  1.000000 -0.629592  0.816847\n",
       "1 -0.629592  1.000000 -0.962454\n",
       "2  0.816847 -0.962454  1.000000"
      ]
     },
     "execution_count": 6,
     "metadata": {},
     "output_type": "execute_result"
    }
   ],
   "source": [
    "Fixed_Matrix = pd.DataFrame(cov_matrix.Higham_psd(pairwise_corr))\n",
    "Fixed_Matrix"
   ]
  },
  {
   "cell_type": "code",
   "execution_count": 7,
   "metadata": {},
   "outputs": [
    {
     "data": {
      "text/plain": [
       "True"
      ]
     },
     "execution_count": 7,
     "metadata": {},
     "output_type": "execute_result"
    }
   ],
   "source": [
    "cov_matrix.is_psd(Fixed_Matrix)"
   ]
  },
  {
   "attachments": {},
   "cell_type": "markdown",
   "metadata": {},
   "source": [
    "## Problem 4 \n",
    "\n",
    "Assume you have 3 variables\n",
    "\n",
    "- 𝑌1, 𝑌2, 𝑋\n",
    "\n",
    "Each are assumed to be distributed normally. Further assume you have a structural model: \n",
    "\n",
    "- 𝑌1 = α1 + β1𝑋 + ε1\n",
    "\n",
    "- 𝑌2 = α2+β2𝑋 +ε2\n",
    "\n",
    "And ε1&ε2 are assumed to be independent and normally distributed. Describe how you would jointly simulate 𝑌1, 𝑌2, & 𝑋."
   ]
  },
  {
   "attachments": {},
   "cell_type": "markdown",
   "metadata": {},
   "source": [
    "- Calculate the covariance of X, Y1, and Y2.  Check that the matrix is PSD.  Simulate from that covariance matrix.\n",
    "\n",
    "- No need to fit the structural model because everything is normally distributed and the conditional distributions are the same "
   ]
  },
  {
   "attachments": {},
   "cell_type": "markdown",
   "metadata": {},
   "source": [
    "## Problem 5\n",
    "\n",
    "Assume the have the same three variables and structural model as in Question #4. However, now we assume that ε1 & ε2 are independent and distributed by a generalized Student T distribution.\n",
    "\n",
    "Describe how you would jointly simulate 𝑌1, 𝑌2, & 𝑋."
   ]
  },
  {
   "attachments": {},
   "cell_type": "markdown",
   "metadata": {},
   "source": [
    "- fit the models to get the parameters and U values for the e1 and e2 variables.  Find the U values for x\n",
    "\n",
    "- Use the spearman correlation between the e1, e2, and X U values to fit the Gaussian copula.\n",
    "\n",
    "- Simulate from the copula and transform back to e1, e2, and x\n",
    "\n",
    "- use the fitted Alpha and Beta values to transform e1, e2, and X into Y1 and Y2."
   ]
  },
  {
   "attachments": {},
   "cell_type": "markdown",
   "metadata": {},
   "source": [
    "## Problem 6\n",
    "\n",
    "Assume\n",
    "\n",
    "- European Put, value = 7.18\n",
    "- Risk Free Rate = 2%, no dividend payment\n",
    "- Stock Price $100, Strike Price $100\n",
    "- 1 Year to maturity\n",
    "\n",
    "a. What is the implied volatility?\n",
    "\n",
    "b. Assume the stock returns are normally distributed, Expected annual return = 4%, with an annual volatility equal to the implied volatility, and 255 trading days in a year. The implied volatility does not change. A market maker has sold this option. What is her 1-day VaR and ES expressed in $ terms?"
   ]
  },
  {
   "cell_type": "code",
   "execution_count": 8,
   "metadata": {},
   "outputs": [
    {
     "name": "stdout",
     "output_type": "stream",
     "text": [
      "Implied Volatility: 0.2062\n"
     ]
    }
   ],
   "source": [
    "value = 7.18\n",
    "rf = 0.02\n",
    "q = 0\n",
    "S0 = 100\n",
    "K = 100\n",
    "T = 1\n",
    "\n",
    "ivol = Option.implied_volatility_bs(S0, K, T, rf, q, value, 'put')\n",
    "print(\"Implied Volatility: {:.4f}\" .format(ivol))"
   ]
  },
  {
   "cell_type": "code",
   "execution_count": 9,
   "metadata": {},
   "outputs": [
    {
     "name": "stdout",
     "output_type": "stream",
     "text": [
      "VaR Mean: 0.8659 -- 5% range [0.8458, 0.8866].\n",
      "ES Mean: 1.0666 -- 5% range [1.0452, 1.0897].\n"
     ]
    }
   ],
   "source": [
    "T1 = 364/365\n",
    "VaRs = []\n",
    "ESs = []\n",
    "\n",
    "for i in range(1000,2000):\n",
    "\n",
    "    np.random.seed(i)\n",
    "    sim_r = np.random.normal(size=10000, loc=0.04/255, scale=ivol/np.sqrt(255))\n",
    "    sim_price = pd.DataFrame((1+sim_r) * 100, columns=['Price'])\n",
    "\n",
    "    sim_price['PNL'] = sim_price.apply(lambda x: Option.black_scholes(x,K,T1,rf,q,ivol,'put')-value)\n",
    "\n",
    "    VaRs.append(VaR.calculate_var(sim_price['PNL']))\n",
    "    ESs.append(VaR.calculate_ES(sim_price['PNL']))\n",
    "\n",
    "VaRs = np.array(VaRs)\n",
    "ESs = np.array(ESs)\n",
    "\n",
    "print(\"VaR Mean: {:.4f} -- 5% range [{:.4f}, {:.4f}].\".format(VaRs.mean(), np.quantile(VaRs, 0.025), np.quantile(VaRs, 0.975)))\n",
    "print(\"ES Mean: {:.4f} -- 5% range [{:.4f}, {:.4f}].\".format(ESs.mean(), np.quantile(ESs, 0.025), np.quantile(ESs, 0.975)))\n"
   ]
  },
  {
   "attachments": {},
   "cell_type": "markdown",
   "metadata": {},
   "source": [
    "## Problem 7\n",
    "\n",
    "The market maker from question #6 wishes to hedge her position by buying or selling stock. How many shares should she buy/sell for each option she has sold?"
   ]
  },
  {
   "cell_type": "code",
   "execution_count": 10,
   "metadata": {},
   "outputs": [
    {
     "name": "stdout",
     "output_type": "stream",
     "text": [
      "She should sell 0.42 shares for each share she sold.\n"
     ]
    }
   ],
   "source": [
    "delta = Option.black_scholes_matrix(S0,K,T,rf,q,ivol,'put').delta() * (-1)\n",
    "\n",
    "print('She should sell {:.2f} shares for each share she sold.'.format(delta))"
   ]
  },
  {
   "attachments": {},
   "cell_type": "markdown",
   "metadata": {},
   "source": [
    "## Problem 8\n",
    "\n",
    "Given 3 Assets, A, B, and C. The risk free rate is 0%. \n",
    "\n",
    "The correlation matrix is:3×3 Matrix{Float64}:\n",
    "\n",
    "|    | A  | B  | C  |\n",
    "| ---| ---| ---| ---|\n",
    "| A  | 1.0| 0.5| 0.5|\n",
    "| B  | 0.5| 1.0| 0.5|\n",
    "| C  | 0.5| 0.5| 1.0|\n",
    "\n",
    "\n",
    "Volatilities are\n",
    "\n",
    "| A  | B  | C  |\n",
    "| ---| ---| ---|\n",
    "| 0.1| 0.2| 0.3|\n",
    "\n",
    "\n",
    "Expected Returns are\n",
    "\n",
    "| A  | B  | C  |\n",
    "| ---| ---| ---|\n",
    "| 0.03| 0.06| 0.09|\n",
    "\n",
    "\n",
    "What is the maximum sharpe ratio portfolio with no constraints on negative weights?"
   ]
  },
  {
   "cell_type": "code",
   "execution_count": 11,
   "metadata": {},
   "outputs": [],
   "source": [
    "assets = ['A','B','C']\n",
    "rf = 0\n",
    "vol = np.array([0.1,0.2,0.3])\n",
    "exp_return = np.array([0.03,0.06,0.09])\n",
    "corr_matrix = np.full((3,3),0.5)\n",
    "\n",
    "for i in range(3):\n",
    "    for j in range(3):\n",
    "        if i == j:\n",
    "            corr_matrix[i,j]=1\n",
    "\n",
    "covariance_matrix = pd.DataFrame(np.diag(vol)@corr_matrix@np.diag(vol),index=assets, columns=assets)"
   ]
  },
  {
   "cell_type": "code",
   "execution_count": 12,
   "metadata": {},
   "outputs": [
    {
     "data": {
      "text/html": [
       "<div>\n",
       "<style scoped>\n",
       "    .dataframe tbody tr th:only-of-type {\n",
       "        vertical-align: middle;\n",
       "    }\n",
       "\n",
       "    .dataframe tbody tr th {\n",
       "        vertical-align: top;\n",
       "    }\n",
       "\n",
       "    .dataframe thead th {\n",
       "        text-align: right;\n",
       "    }\n",
       "</style>\n",
       "<table border=\"1\" class=\"dataframe\">\n",
       "  <thead>\n",
       "    <tr style=\"text-align: right;\">\n",
       "      <th></th>\n",
       "      <th>Stock</th>\n",
       "      <th>Weight</th>\n",
       "      <th>cEr</th>\n",
       "    </tr>\n",
       "  </thead>\n",
       "  <tbody>\n",
       "    <tr>\n",
       "      <th>0</th>\n",
       "      <td>A</td>\n",
       "      <td>0.545261</td>\n",
       "      <td>0.016358</td>\n",
       "    </tr>\n",
       "    <tr>\n",
       "      <th>1</th>\n",
       "      <td>B</td>\n",
       "      <td>0.272899</td>\n",
       "      <td>0.016374</td>\n",
       "    </tr>\n",
       "    <tr>\n",
       "      <th>2</th>\n",
       "      <td>C</td>\n",
       "      <td>0.181840</td>\n",
       "      <td>0.016366</td>\n",
       "    </tr>\n",
       "  </tbody>\n",
       "</table>\n",
       "</div>"
      ],
      "text/plain": [
       "  Stock    Weight       cEr\n",
       "0     A  0.545261  0.016358\n",
       "1     B  0.272899  0.016374\n",
       "2     C  0.181840  0.016366"
      ]
     },
     "execution_count": 12,
     "metadata": {},
     "output_type": "execute_result"
    }
   ],
   "source": [
    "weights, sharp_ratio = optimal_portfolio.Optweight_sr(assets, exp_return,covariance_matrix, rf, (None,None))\n",
    "weights"
   ]
  },
  {
   "attachments": {},
   "cell_type": "markdown",
   "metadata": {},
   "source": [
    "## Problem 9 \n",
    "\n",
    "Given the covariance structure in #8,\n",
    "\n",
    "- a. if we have an equal weight on each asset (33.3...%), what is the risk contribution of each asset?\n",
    "\n",
    "- b. What are the risk parity portfolio weights?"
   ]
  },
  {
   "cell_type": "code",
   "execution_count": 13,
   "metadata": {},
   "outputs": [
    {
     "data": {
      "text/plain": [
       "A    0.023333\n",
       "B    0.053333\n",
       "C    0.090000\n",
       "dtype: float64"
      ]
     },
     "execution_count": 13,
     "metadata": {},
     "output_type": "execute_result"
    }
   ],
   "source": [
    "weights = np.array([1/3]*3)\n",
    "risk_attribution.risk_contrib(weights,covariance_matrix)"
   ]
  },
  {
   "cell_type": "code",
   "execution_count": 14,
   "metadata": {},
   "outputs": [
    {
     "data": {
      "text/html": [
       "<div>\n",
       "<style scoped>\n",
       "    .dataframe tbody tr th:only-of-type {\n",
       "        vertical-align: middle;\n",
       "    }\n",
       "\n",
       "    .dataframe tbody tr th {\n",
       "        vertical-align: top;\n",
       "    }\n",
       "\n",
       "    .dataframe thead th {\n",
       "        text-align: right;\n",
       "    }\n",
       "</style>\n",
       "<table border=\"1\" class=\"dataframe\">\n",
       "  <thead>\n",
       "    <tr style=\"text-align: right;\">\n",
       "      <th></th>\n",
       "      <th>Weight</th>\n",
       "      <th>cEr</th>\n",
       "      <th>CSD</th>\n",
       "    </tr>\n",
       "  </thead>\n",
       "  <tbody>\n",
       "    <tr>\n",
       "      <th>A</th>\n",
       "      <td>0.545454</td>\n",
       "      <td>0.016364</td>\n",
       "      <td>0.044536</td>\n",
       "    </tr>\n",
       "    <tr>\n",
       "      <th>B</th>\n",
       "      <td>0.272727</td>\n",
       "      <td>0.016364</td>\n",
       "      <td>0.044536</td>\n",
       "    </tr>\n",
       "    <tr>\n",
       "      <th>C</th>\n",
       "      <td>0.181818</td>\n",
       "      <td>0.016364</td>\n",
       "      <td>0.044536</td>\n",
       "    </tr>\n",
       "  </tbody>\n",
       "</table>\n",
       "</div>"
      ],
      "text/plain": [
       "     Weight       cEr       CSD\n",
       "A  0.545454  0.016364  0.044536\n",
       "B  0.272727  0.016364  0.044536\n",
       "C  0.181818  0.016364  0.044536"
      ]
     },
     "execution_count": 14,
     "metadata": {},
     "output_type": "execute_result"
    }
   ],
   "source": [
    "risk_parity.vol_risk_parity(exp_return,covariance_matrix)"
   ]
  },
  {
   "attachments": {},
   "cell_type": "markdown",
   "metadata": {},
   "source": [
    "## Problem 10\n",
    "\n",
    "Use Data in question10.csv for assets A, B, & C, and given a starting weight of [0.55, 0.27, 0.18]\n",
    "\n",
    " Calculate the ex-post return contribution of each asset"
   ]
  },
  {
   "cell_type": "code",
   "execution_count": 15,
   "metadata": {},
   "outputs": [
    {
     "data": {
      "text/html": [
       "<div>\n",
       "<style scoped>\n",
       "    .dataframe tbody tr th:only-of-type {\n",
       "        vertical-align: middle;\n",
       "    }\n",
       "\n",
       "    .dataframe tbody tr th {\n",
       "        vertical-align: top;\n",
       "    }\n",
       "\n",
       "    .dataframe thead th {\n",
       "        text-align: right;\n",
       "    }\n",
       "</style>\n",
       "<table border=\"1\" class=\"dataframe\">\n",
       "  <thead>\n",
       "    <tr style=\"text-align: right;\">\n",
       "      <th></th>\n",
       "      <th>Value</th>\n",
       "      <th>A</th>\n",
       "      <th>B</th>\n",
       "      <th>C</th>\n",
       "      <th>Portfolio</th>\n",
       "    </tr>\n",
       "  </thead>\n",
       "  <tbody>\n",
       "    <tr>\n",
       "      <th>0</th>\n",
       "      <td>TotalReturn</td>\n",
       "      <td>0.053001</td>\n",
       "      <td>-0.089135</td>\n",
       "      <td>0.182844</td>\n",
       "      <td>0.037996</td>\n",
       "    </tr>\n",
       "    <tr>\n",
       "      <th>1</th>\n",
       "      <td>Return Attribution</td>\n",
       "      <td>0.030156</td>\n",
       "      <td>-0.027476</td>\n",
       "      <td>0.035316</td>\n",
       "      <td>0.037996</td>\n",
       "    </tr>\n",
       "    <tr>\n",
       "      <th>2</th>\n",
       "      <td>Vol Attribution</td>\n",
       "      <td>0.013933</td>\n",
       "      <td>0.015537</td>\n",
       "      <td>0.013961</td>\n",
       "      <td>0.043431</td>\n",
       "    </tr>\n",
       "  </tbody>\n",
       "</table>\n",
       "</div>"
      ],
      "text/plain": [
       "                Value         A         B         C  Portfolio\n",
       "0         TotalReturn  0.053001 -0.089135  0.182844   0.037996\n",
       "1  Return Attribution  0.030156 -0.027476  0.035316   0.037996\n",
       "2     Vol Attribution  0.013933  0.015537  0.013961   0.043431"
      ]
     },
     "execution_count": 15,
     "metadata": {},
     "output_type": "execute_result"
    }
   ],
   "source": [
    "returns = pd.read_csv('question10.csv')\n",
    "start_weights = np.array([0.55, 0.27, 0.18])\n",
    "\n",
    "risk_attribution.expost_attribution(start_weights, returns)"
   ]
  },
  {
   "attachments": {},
   "cell_type": "markdown",
   "metadata": {},
   "source": [
    "## EC 1\n",
    "\n",
    "Using the data in ec1.csv for assets A and B. This is output from a simulation of asset values.\n",
    "\n",
    "- Calculate the covariance of the assets. Use the expected value from the series. Assume the risk free rate is 2%. Weights must be >=-1.0. Find the maximum sharpe ratio portfolio.\n",
    "(HINT: Because you have 2 Assets, you can quickly sweep the potential weights to find maximum values instead of using an optimizer)\n",
    "\n",
    "- Using the simulated values in the CSV file, calculate the portfolio that maximizes\n",
    "(μ−𝑟𝑓/𝐸𝑆) Where 𝐸𝑆 is the portfolio expected shortfall.\n",
    "\n",
    "-  Why are these two portfolios so different?\n"
   ]
  },
  {
   "cell_type": "code",
   "execution_count": 16,
   "metadata": {},
   "outputs": [],
   "source": [
    "dataset = pd.read_csv('ec1.csv')\n",
    "assets = ['A', 'B']"
   ]
  },
  {
   "attachments": {},
   "cell_type": "markdown",
   "metadata": {},
   "source": [
    "#### Optimize with sharp ratio"
   ]
  },
  {
   "cell_type": "code",
   "execution_count": 17,
   "metadata": {},
   "outputs": [
    {
     "data": {
      "text/html": [
       "<div>\n",
       "<style scoped>\n",
       "    .dataframe tbody tr th:only-of-type {\n",
       "        vertical-align: middle;\n",
       "    }\n",
       "\n",
       "    .dataframe tbody tr th {\n",
       "        vertical-align: top;\n",
       "    }\n",
       "\n",
       "    .dataframe thead th {\n",
       "        text-align: right;\n",
       "    }\n",
       "</style>\n",
       "<table border=\"1\" class=\"dataframe\">\n",
       "  <thead>\n",
       "    <tr style=\"text-align: right;\">\n",
       "      <th></th>\n",
       "      <th>Weight</th>\n",
       "    </tr>\n",
       "  </thead>\n",
       "  <tbody>\n",
       "    <tr>\n",
       "      <th>A</th>\n",
       "      <td>2.0</td>\n",
       "    </tr>\n",
       "    <tr>\n",
       "      <th>B</th>\n",
       "      <td>-1.0</td>\n",
       "    </tr>\n",
       "  </tbody>\n",
       "</table>\n",
       "</div>"
      ],
      "text/plain": [
       "   Weight\n",
       "A     2.0\n",
       "B    -1.0"
      ]
     },
     "execution_count": 17,
     "metadata": {},
     "output_type": "execute_result"
    }
   ],
   "source": [
    "covar = dataset.cov()\n",
    "exp = dataset.mean()\n",
    "weights_sr, sharp_ratio = optimal_portfolio.Optweight_sr_two_assets(assets, exp, covar, 0.02, (-1,2))\n",
    "weights_sr"
   ]
  },
  {
   "attachments": {},
   "cell_type": "markdown",
   "metadata": {},
   "source": [
    "#### Optimize with ES"
   ]
  },
  {
   "cell_type": "code",
   "execution_count": 18,
   "metadata": {},
   "outputs": [],
   "source": [
    "def Optweight_esr(stockMeans, stockreturn, rf, bound=(0,None)):\n",
    "\n",
    "    # Define Sharpe ratio function\n",
    "    def esr(w):\n",
    "        m = np.dot(w, stockMeans) - rf\n",
    "        s = VaR.calculate_ES(np.dot(stockreturn,w))\n",
    "        return m / s\n",
    "\n",
    "    n = stockMeans.shape[0]\n",
    "\n",
    "    # Define optimization problem\n",
    "    bounds = [bound] * n\n",
    "    cons = {\"type\": \"eq\", \"fun\": lambda w: np.sum(w) - 1}\n",
    "    result = minimize(lambda w: -esr(w), np.ones(n) / n, method=\"SLSQP\", bounds=bounds, constraints=cons)\n",
    "\n",
    "    # Extract optimal weights and other information\n",
    "    w = result.x\n",
    "    w = w / np.sum(w)\n",
    "    OptWeights = pd.DataFrame({\"Weight\": w, \"cEr\": stockMeans * w})\n",
    "\n",
    "    return OptWeights"
   ]
  },
  {
   "cell_type": "code",
   "execution_count": 19,
   "metadata": {},
   "outputs": [
    {
     "data": {
      "text/html": [
       "<div>\n",
       "<style scoped>\n",
       "    .dataframe tbody tr th:only-of-type {\n",
       "        vertical-align: middle;\n",
       "    }\n",
       "\n",
       "    .dataframe tbody tr th {\n",
       "        vertical-align: top;\n",
       "    }\n",
       "\n",
       "    .dataframe thead th {\n",
       "        text-align: right;\n",
       "    }\n",
       "</style>\n",
       "<table border=\"1\" class=\"dataframe\">\n",
       "  <thead>\n",
       "    <tr style=\"text-align: right;\">\n",
       "      <th></th>\n",
       "      <th>Weight</th>\n",
       "      <th>cEr</th>\n",
       "    </tr>\n",
       "  </thead>\n",
       "  <tbody>\n",
       "    <tr>\n",
       "      <th>A</th>\n",
       "      <td>0.928351</td>\n",
       "      <td>0.056702</td>\n",
       "    </tr>\n",
       "    <tr>\n",
       "      <th>B</th>\n",
       "      <td>0.071649</td>\n",
       "      <td>-0.026205</td>\n",
       "    </tr>\n",
       "  </tbody>\n",
       "</table>\n",
       "</div>"
      ],
      "text/plain": [
       "     Weight       cEr\n",
       "A  0.928351  0.056702\n",
       "B  0.071649 -0.026205"
      ]
     },
     "execution_count": 19,
     "metadata": {},
     "output_type": "execute_result"
    }
   ],
   "source": [
    "weights_esr = Optweight_esr(exp, dataset, 0.02, (-1, None))\n",
    "weights_esr"
   ]
  },
  {
   "attachments": {},
   "cell_type": "markdown",
   "metadata": {},
   "source": [
    "#### Compare two portfolio"
   ]
  },
  {
   "cell_type": "code",
   "execution_count": 20,
   "metadata": {},
   "outputs": [
    {
     "name": "stdout",
     "output_type": "stream",
     "text": [
      "For first portfolio, VaR: 2.9507, ES: 4.0576\n",
      "For Second portfolio, VaR: 0.0717, ES: 0.0717\n",
      "\n"
     ]
    }
   ],
   "source": [
    "portfolio_return_sr = np.dot(dataset, weights_sr['Weight'].values)\n",
    "portfolio_return_esr = np.dot(dataset, weights_esr['Weight'].values)\n",
    "\n",
    "VaR_sr = VaR.calculate_var(portfolio_return_sr)\n",
    "VaR_esr = VaR.calculate_var(portfolio_return_esr)\n",
    "\n",
    "ES_sr = VaR.calculate_ES(portfolio_return_sr)\n",
    "ES_esr = VaR.calculate_ES(portfolio_return_esr)\n",
    "\n",
    "\n",
    "print(\"For first portfolio, VaR: {:.4f}, ES: {:.4f}\".format(VaR_sr, ES_sr))\n",
    "print(\"For Second portfolio, VaR: {:.4f}, ES: {:.4f}\\n\".format(VaR_esr, ES_esr))"
   ]
  },
  {
   "cell_type": "code",
   "execution_count": 21,
   "metadata": {},
   "outputs": [
    {
     "name": "stdout",
     "output_type": "stream",
     "text": [
      "Mean: 0.0611.\n",
      "Standard Deviation: 0.1879.\n",
      "Variance: 0.0353.\n",
      "Skewness: -0.1278.\n",
      "kurtosis: -0.1427.\n"
     ]
    }
   ],
   "source": [
    "print(\"Mean: {:.4f}.\".format(np.mean(dataset['A'].values)))\n",
    "print(\"Standard Deviation: {:.4f}.\".format(np.std(dataset['A'].values)))\n",
    "print(\"Variance: {:.4f}.\".format(np.var(dataset['A'].values)))\n",
    "print(\"Skewness: {:.4f}.\".format(skew(dataset['A'])))\n",
    "print(\"kurtosis: {:.4f}.\".format(kurtosis(dataset['A'])))"
   ]
  },
  {
   "cell_type": "code",
   "execution_count": 22,
   "metadata": {},
   "outputs": [
    {
     "name": "stdout",
     "output_type": "stream",
     "text": [
      "Mean: -0.3657.\n",
      "Standard Deviation: 1.1809.\n",
      "Variance: 1.3945.\n",
      "Skewness: 2.2284.\n",
      "kurtosis: 4.9241.\n"
     ]
    }
   ],
   "source": [
    "print(\"Mean: {:.4f}.\".format(np.mean(dataset['B'].values)))\n",
    "print(\"Standard Deviation: {:.4f}.\".format(np.std(dataset['B'].values)))\n",
    "print(\"Variance: {:.4f}.\".format(np.var(dataset['B'].values)))\n",
    "print(\"Skewness: {:.4f}.\".format(skew(dataset['B'])))\n",
    "print(\"kurtosis: {:.4f}.\".format(kurtosis(dataset['B'])))"
   ]
  },
  {
   "attachments": {},
   "cell_type": "markdown",
   "metadata": {},
   "source": [
    "## EC 2\n",
    "\n",
    "Using the data in ec2.csv.\n",
    "- a. 𝑋~𝑁(μ, σ)\n",
    "- b. 𝑌𝑖 =α𝑖 +β𝑖𝑋 +ε𝑖 𝑓𝑜𝑟𝑖 ∈ [1,2]\n",
    "- c. ε𝑖~𝑇(0,σ𝑖,ν𝑖)𝑓𝑜𝑟𝑖 ∈ [1,2]\n",
    "- d. Initial price of Y1 = $10.\n",
    "- e. Initial price of Y2 = $50.\n",
    "- f. You hold a portfolio of 100 shares of both Y1 and Y2\n",
    "\n",
    "What is the VaR and ES of the portfolio, given the information above, expressed as a $ profit and loss?"
   ]
  },
  {
   "cell_type": "code",
   "execution_count": 23,
   "metadata": {},
   "outputs": [],
   "source": [
    "dataset = pd.read_csv('ec2.csv')"
   ]
  },
  {
   "cell_type": "code",
   "execution_count": 24,
   "metadata": {},
   "outputs": [],
   "source": [
    "parameters_y1, error_y1 = linear_regression.fit_regression_t(dataset['y1'],dataset['x'])\n",
    "parameters_y2, error_y2 = linear_regression.fit_regression_t(dataset['y2'],dataset['x'])"
   ]
  },
  {
   "cell_type": "code",
   "execution_count": 25,
   "metadata": {},
   "outputs": [],
   "source": [
    "VaRs = []\n",
    "ESs = []\n",
    "\n",
    "for i in range(100):\n",
    "    fitting_data  = pd.DataFrame({'error_y1': error_y1,\n",
    "                                'error_y2': error_y2,\n",
    "                                'X': dataset['x']})\n",
    "    fitting_model = np.array(['t','t','n'])\n",
    "    sim_return, p = simulation.gaussian_copula(fitting_data,fitting_model,seed=i)\n",
    "    sim_return['y1'] = sim_return.apply(lambda x: x[2]*parameters_y1['beta']+parameters_y1['alpha']+x[0], axis=1)\n",
    "    sim_return['y2'] = sim_return.apply(lambda x: x[2]*parameters_y2['beta']+parameters_y2['alpha']+x[1], axis=1)\n",
    "    pnl = sim_return[['y1', 'y2']] @ np.array([10,50]) * 100\n",
    "    VaRs.append(VaR.calculate_var(pnl))\n",
    "    ESs.append(VaR.calculate_ES(pnl))\n",
    "VaRs = np.array(VaRs)\n",
    "ESs = np.array(ESs)\n"
   ]
  },
  {
   "cell_type": "code",
   "execution_count": 26,
   "metadata": {},
   "outputs": [
    {
     "name": "stdout",
     "output_type": "stream",
     "text": [
      "VaR Mean: 159.6873 -- 5% range [155.4005, 164.3533].\n",
      "ES Mean: 203.2695 -- 5% range [197.8820, 207.9210].\n"
     ]
    }
   ],
   "source": [
    "print(\"VaR Mean: {:.4f} -- 5% range [{:.4f}, {:.4f}].\".format(VaRs.mean(), np.quantile(VaRs, 0.025), np.quantile(VaRs, 0.975)))\n",
    "print(\"ES Mean: {:.4f} -- 5% range [{:.4f}, {:.4f}].\".format(ESs.mean(), np.quantile(ESs, 0.025), np.quantile(ESs, 0.975)))"
   ]
  },
  {
   "cell_type": "code",
   "execution_count": null,
   "metadata": {},
   "outputs": [],
   "source": []
  }
 ],
 "metadata": {
  "kernelspec": {
   "display_name": "base",
   "language": "python",
   "name": "python3"
  },
  "language_info": {
   "codemirror_mode": {
    "name": "ipython",
    "version": 3
   },
   "file_extension": ".py",
   "mimetype": "text/x-python",
   "name": "python",
   "nbconvert_exporter": "python",
   "pygments_lexer": "ipython3",
   "version": "3.9.12"
  },
  "orig_nbformat": 4
 },
 "nbformat": 4,
 "nbformat_minor": 2
}
